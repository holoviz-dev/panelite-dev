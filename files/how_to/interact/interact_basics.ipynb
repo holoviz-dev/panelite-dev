{
 "cells": [
  {
   "cell_type": "markdown",
   "id": "62cae8cb",
   "metadata": {},
   "source": [
    "<div class=\"alert alert-block alert-success\">\n",
    "<em>Panelite</em> is powered by young technologies like <a href=\"https://pyodide.org/en/stable/\">Pyodide</a> and <a href=\"https://jupyterlite.readthedocs.io/en/latest/\">Jupyterlite</a>. Panelite <a href=\"https://github.com/holoviz/panel/issues/4416\">does not work well in Edge</a>. If you experience issues, please <a href=\"https://github.com/holoviz/panel/issues\">report them</a>.\n",
    "</div>"
   ]
  },
  {
   "cell_type": "code",
   "execution_count": null,
   "id": "92720fd6",
   "metadata": {},
   "outputs": [],
   "source": [
    "import piplite\n",
    "await piplite.install(['panel', 'pyodide-http'])"
   ]
  },
  {
   "cell_type": "markdown",
   "id": "d7d680a6",
   "metadata": {},
   "source": [
    "# Generate widgets for function arguments\n",
    "\n",
    "This guide addresses how to generate widgets for function arguments with Panel `interact`.\n",
    "\n",
    "---\n",
    "\n",
    "First, let's declare a simple function that just returns the arguments:\n",
    "\n"
   ]
  },
  {
   "cell_type": "code",
   "execution_count": null,
   "id": "b460287c",
   "metadata": {},
   "outputs": [],
   "source": [
    "import panel as pn\n",
    "pn.extension() # for notebook\n",
    "\n",
    "def foo(a, b, c, d, e, f):\n",
    "    return f'Arguments: {a, b, c, d, e, f}'"
   ]
  },
  {
   "cell_type": "markdown",
   "id": "322ae16e",
   "metadata": {},
   "source": [
    "\n",
    "Next, let's call `interact` with the function and it's arguments. The values of the arguments will be inspected to infer an appropriate set of widgets to autogenerate. After running the code block, changing any of the resulting widgets will cause the function to be re-run, updating the displayed output.\n",
    "\n"
   ]
  },
  {
   "cell_type": "code",
   "execution_count": null,
   "id": "d8be05e3",
   "metadata": {},
   "outputs": [],
   "source": [
    "pn.interact(\n",
    "    foo,\n",
    "    a=True,\n",
    "    b=10,\n",
    "    c=(-10, 10, 0.1, 5.4),\n",
    "    d='text',\n",
    "    e=['apples', 'oranges'],\n",
    "    f=dict([('first', 10), ('second', 20)])\n",
    ")"
   ]
  },
  {
   "cell_type": "markdown",
   "id": "5dd4b762",
   "metadata": {},
   "source": [
    "\n",
    "We can also explicitly pass a widget as one of the values:\n",
    "\n"
   ]
  },
  {
   "cell_type": "code",
   "execution_count": null,
   "id": "951431ae",
   "metadata": {},
   "outputs": [],
   "source": [
    "def create_block(c):\n",
    "    return pn.pane.HTML(width=100, height=100, styles={'background': c})\n",
    "\n",
    "color_widget = pn.widgets.ColorPicker(name='Color', value='#4f4fdf')\n",
    "\n",
    "pn.interact(create_block, c=color_widget)"
   ]
  },
  {
   "cell_type": "markdown",
   "id": "be3ac8a5",
   "metadata": {},
   "source": [
    "\n",
    "Alternatively, this `interact` approach can be used as a decorator:\n",
    "\n"
   ]
  },
  {
   "cell_type": "code",
   "execution_count": null,
   "id": "2f96b6d5",
   "metadata": {},
   "outputs": [],
   "source": [
    "@pn.interact(x=True, y=10)\n",
    "def bar(x, y):\n",
    "    return x, y\n",
    "bar"
   ]
  },
  {
   "cell_type": "markdown",
   "id": "07b53fb9",
   "metadata": {},
   "source": [
    "\n",
    "Let's put this all together:\n",
    "\n"
   ]
  },
  {
   "cell_type": "code",
   "execution_count": null,
   "id": "fabd0d92",
   "metadata": {},
   "outputs": [],
   "source": [
    "import panel as pn\n",
    "pn.extension() # for notebook\n",
    "\n",
    "def foo(a, b, c, d, e, f):\n",
    "    return f'Arguments: {a, b, c, d, e, f}'\n",
    "\n",
    "pn.interact(\n",
    "    foo,\n",
    "    a=True,\n",
    "    b=10,\n",
    "    c=(-10, 10, 0.1, 5.4),\n",
    "    d='text',\n",
    "    e=['apples', 'oranges'],\n",
    "    f=dict([('first', 10), ('second', 20)])\n",
    ")\n",
    "\n",
    "def create_block(c):\n",
    "    return pn.pane.HTML(width=100, height=100, styles={'background': c})\n",
    "\n",
    "color_widget = pn.widgets.ColorPicker(name='Color', value='#4f4fdf')\n",
    "\n",
    "pn.interact(create_block, c=color_widget)"
   ]
  },
  {
   "cell_type": "markdown",
   "id": "1cc4b194",
   "metadata": {},
   "source": [
    "\n",
    "## Related Resources\n"
   ]
  }
 ],
 "metadata": {},
 "nbformat": 4,
 "nbformat_minor": 5
}
