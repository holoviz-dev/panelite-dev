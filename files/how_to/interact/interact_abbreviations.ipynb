{
 "cells": [
  {
   "cell_type": "markdown",
   "id": "32f9d09b",
   "metadata": {},
   "source": [
    "<div class=\"alert alert-block alert-success\">\n",
    "<em>Panelite</em> is powered by young technologies like <a href=\"https://pyodide.org/en/stable/\">Pyodide</a> and <a href=\"https://jupyterlite.readthedocs.io/en/latest/\">Jupyterlite</a>. Panelite <a href=\"https://github.com/holoviz/panel/issues/4416\">does not work well in Edge</a>. If you experience issues, please <a href=\"https://github.com/holoviz/panel/issues\">report them</a>.\n",
    "</div>"
   ]
  },
  {
   "cell_type": "code",
   "execution_count": null,
   "id": "b6325f16",
   "metadata": {},
   "outputs": [],
   "source": [
    "import piplite\n",
    "await piplite.install(['panel', 'pyodide-http'])"
   ]
  },
  {
   "cell_type": "markdown",
   "id": "1dd16211",
   "metadata": {},
   "source": [
    "# Use abbreviations to generate widgets\n",
    "\n",
    "This guide addresses how to use abbreviations to create widgets with Panel `interact`.\n",
    "\n",
    "```{admonition} Prerequisites\n",
    "1. The [How to > Generate Widgets for Function Arguments](./interact_basics.md) guide provides an overview of how to generate widgets for function arguments with Panel interact.\n",
    "```\n",
    "\n",
    "___\n",
    "\n",
    "At the most basic level, `interact` autogenerates UI controls for function arguments, and then calls the function with those arguments when you manipulate the controls interactively.\n",
    "\n",
    "To use `interact`, you need to define a function that you want to explore. Here is a function that return its argument.\n",
    "\n"
   ]
  },
  {
   "cell_type": "code",
   "execution_count": null,
   "id": "a0a872ad",
   "metadata": {},
   "outputs": [],
   "source": [
    "import panel as pn\n",
    "from panel.interact import interact\n",
    "from panel import widgets\n",
    "\n",
    "pn.extension() # for notebook\n",
    "\n",
    "def f(x):\n",
    "    return x"
   ]
  },
  {
   "cell_type": "markdown",
   "id": "78b17fc2",
   "metadata": {},
   "source": [
    "\n",
    "When you pass this function to `interact` along with `x=10`, a slider is generated and bound to the function parameter, such that when you interact with the widget, the function is called.\n",
    "\n"
   ]
  },
  {
   "cell_type": "code",
   "execution_count": null,
   "id": "fafa8496",
   "metadata": {},
   "outputs": [],
   "source": [
    "interact(f, x=10)"
   ]
  },
  {
   "cell_type": "markdown",
   "id": "ee2c2727",
   "metadata": {},
   "source": [
    "\n",
    "When you pass an integer-valued keyword argument of `10` (`x=10`) to `interact`, it generates an integer-valued slider control with a range of `[-10,+3*10]`. In this case, `10` is an *abbreviation* for an actual slider widget:\n",
    "\n"
   ]
  },
  {
   "cell_type": "code",
   "execution_count": null,
   "id": "ec951682",
   "metadata": {},
   "outputs": [],
   "source": [
    "slider_widget = widgets.IntSlider(start=-10,end=30,step=1,value=10)"
   ]
  },
  {
   "cell_type": "markdown",
   "id": "a7e75ab2",
   "metadata": {},
   "source": [
    "\n",
    "In fact, we can get the same result if we pass this `IntSlider` as the keyword argument for `x`:\n",
    "\n"
   ]
  },
  {
   "cell_type": "code",
   "execution_count": null,
   "id": "27b522cc",
   "metadata": {},
   "outputs": [],
   "source": [
    "interact(f, x=slider_widget)"
   ]
  },
  {
   "cell_type": "markdown",
   "id": "aa3132bb",
   "metadata": {},
   "source": [
    "\n",
    "This examples clarifies how `interact` processes its keyword arguments:\n",
    "\n",
    "1. If the keyword argument is a `Widget` instance with a `value` attribute, that widget is used. Any widget with a `value` attribute can be used, even custom ones.\n",
    "2. Otherwise, the value is treated as a *widget abbreviation* that is converted to a widget before it is used.\n",
    "\n",
    "The following table gives an overview of different widget abbreviations:\n",
    "\n",
    "<table class=\"table table-condensed table-bordered\">\n",
    "  <tr><td><strong>Keyword argument</strong></td><td><strong>Widget</strong></td></tr>\n",
    "  <tr><td>True or False</td><td>Checkbox</td></tr>\n",
    "  <tr><td>'Hi there'</td><td>Text</td></tr>\n",
    "  <tr><td>value or (min,max,[step,[value]]) if integers are passed</td><td>IntSlider</td></tr>\n",
    "  <tr><td>value or (min,max,[step,[value]]) if floats are passed</td><td>FloatSlider</td></tr>\n",
    "  <tr><td>['orange','apple'] or {'one':1,'two':2}</td><td>Dropdown</td></tr>\n",
    "</table>\n",
    "Note that a dropdown is used if a list or a dict is given (signifying discrete choices), and a slider is used if a tuple is given (signifying a range).\n",
    "\n",
    "You have seen how the IntSlider widget works above. Here, more details about the different abbreviations for sliders and dropdowns are given.\n",
    "\n",
    "If a 2-tuple of integers is passed `(min,max)`, an integer-valued slider is produced with those minimum and maximum values (inclusively). In this case, the default step size of `1` is used.\n",
    "\n",
    "\n"
   ]
  },
  {
   "cell_type": "code",
   "execution_count": null,
   "id": "d9366482",
   "metadata": {},
   "outputs": [],
   "source": [
    "interact(f, x=(0, 4))"
   ]
  },
  {
   "cell_type": "markdown",
   "id": "322d4d61",
   "metadata": {},
   "source": [
    "\n",
    "If a 3-tuple of integers is passed `(min,max,step)`, the step size can also be set.\n",
    "\n",
    "\n"
   ]
  },
  {
   "cell_type": "code",
   "execution_count": null,
   "id": "7edc34ab",
   "metadata": {},
   "outputs": [],
   "source": [
    "interact(f, x=(0, 8, 2))"
   ]
  },
  {
   "cell_type": "markdown",
   "id": "2eacb3e9",
   "metadata": {},
   "source": [
    "\n",
    "A float-valued slider is produced if the elements of the tuples are floats. Here the minimum is `0.0`, the maximum is `10.0` and step size is `0.1` (the default).\n",
    "\n",
    "\n"
   ]
  },
  {
   "cell_type": "code",
   "execution_count": null,
   "id": "85eedae6",
   "metadata": {},
   "outputs": [],
   "source": [
    "interact(f, x=(0.0, 10.0))"
   ]
  },
  {
   "cell_type": "markdown",
   "id": "ee683fbf",
   "metadata": {},
   "source": [
    "\n",
    "The step size can be changed by passing a third element in the tuple.\n",
    "\n",
    "\n"
   ]
  },
  {
   "cell_type": "code",
   "execution_count": null,
   "id": "7e418c0f",
   "metadata": {},
   "outputs": [],
   "source": [
    "interact(f, x=(0.0, 10.0, 0.01))"
   ]
  },
  {
   "cell_type": "markdown",
   "id": "2c4d0300",
   "metadata": {},
   "source": [
    "\n",
    "For both integer and float-valued sliders, you can pick the initial value of the widget by supplying a default keyword argument when you define the underlying Python function. Here we set the initial value of a float slider to `5.5`.\n",
    "\n",
    "\n"
   ]
  },
  {
   "cell_type": "code",
   "execution_count": null,
   "id": "ab25ab72",
   "metadata": {},
   "outputs": [],
   "source": [
    "@interact(x=(0.0, 20.0, 0.5))\n",
    "def h(x=5.5):\n",
    "    return x\n",
    "\n",
    "h"
   ]
  },
  {
   "cell_type": "markdown",
   "id": "d4912888",
   "metadata": {},
   "source": [
    "\n",
    "You can also set the initial value by passing a fourth element in the tuple.\n",
    "\n",
    "\n"
   ]
  },
  {
   "cell_type": "code",
   "execution_count": null,
   "id": "03e42774",
   "metadata": {},
   "outputs": [],
   "source": [
    "interact(f, x=(0.0, 20.0, 0.5, 5.5))"
   ]
  },
  {
   "cell_type": "markdown",
   "id": "8903d265",
   "metadata": {},
   "source": [
    "\n",
    "Use `None` as the third element to just set min, max, and value.\n",
    "\n",
    "\n"
   ]
  },
  {
   "cell_type": "code",
   "execution_count": null,
   "id": "79d952e2",
   "metadata": {},
   "outputs": [],
   "source": [
    "interact(f, x=(0.0, 20.0, None, 5.5))"
   ]
  },
  {
   "cell_type": "markdown",
   "id": "f3018d0c",
   "metadata": {},
   "source": [
    "\n",
    "Dropdown menus are constructed by passing a list of strings. In this case, the strings are both used as the names in the dropdown menu UI and passed to the underlying Python function.\n",
    "\n",
    "\n"
   ]
  },
  {
   "cell_type": "code",
   "execution_count": null,
   "id": "ee3b2526",
   "metadata": {},
   "outputs": [],
   "source": [
    "interact(f, x=['apples', 'oranges'])"
   ]
  },
  {
   "cell_type": "markdown",
   "id": "0800523b",
   "metadata": {},
   "source": [
    "\n",
    "When working with numeric data ``interact`` will automatically add a discrete slider:\n",
    "\n",
    "\n"
   ]
  },
  {
   "cell_type": "code",
   "execution_count": null,
   "id": "96689669",
   "metadata": {},
   "outputs": [],
   "source": [
    "interact(f, x=dict([('one', 10), ('two', 20)]))"
   ]
  },
  {
   "cell_type": "markdown",
   "id": "ccd80694",
   "metadata": {},
   "source": [
    "\n",
    "## Related Resources\n"
   ]
  }
 ],
 "metadata": {},
 "nbformat": 4,
 "nbformat_minor": 5
}
