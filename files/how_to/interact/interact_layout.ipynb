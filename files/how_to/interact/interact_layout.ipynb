{
 "cells": [
  {
   "cell_type": "markdown",
   "id": "8c7cc51e",
   "metadata": {},
   "source": [
    "<div class=\"alert alert-block alert-success\">\n",
    "<em>Panelite</em> is powered by young technologies like <a href=\"https://pyodide.org/en/stable/\">Pyodide</a> and <a href=\"https://jupyterlite.readthedocs.io/en/latest/\">Jupyterlite</a>. Panelite <a href=\"https://github.com/holoviz/panel/issues/4416\">does not work well in Edge</a>. If you experience issues, please <a href=\"https://github.com/holoviz/panel/issues\">report them</a>.\n",
    "</div>"
   ]
  },
  {
   "cell_type": "code",
   "execution_count": null,
   "id": "c84403a2",
   "metadata": {},
   "outputs": [],
   "source": [
    "import piplite\n",
    "await piplite.install(['panel', 'pyodide-http'])"
   ]
  },
  {
   "cell_type": "markdown",
   "id": "0f772aa8",
   "metadata": {},
   "source": [
    "# Customize Layout with Interact\n",
    "\n",
    "This guide addresses how to customize the layout of the widgets and displays from the output of Panel `interact`.\n",
    "\n",
    "```{admonition} Prerequisites\n",
    "1. The [How to > Generate Widgets for Function Arguments](./interact_basics.md) guide covers how to generate widgets for function arguments with Panel interact.\n",
    "```\n",
    "\n",
    "---\n",
    "\n",
    "First, let's create a function and call `interact` to return a Panel containing the widgets and the display output.\n",
    "\n"
   ]
  },
  {
   "cell_type": "code",
   "execution_count": null,
   "id": "e23c4e48",
   "metadata": {},
   "outputs": [],
   "source": [
    "import panel as pn\n",
    "pn.extension() # for notebook\n",
    "\n",
    "def f(x, y, z):\n",
    "    return x, y, z\n",
    "\n",
    "layout = pn.interact(f, x=True, y=10, z='text')\n",
    "\n",
    "layout"
   ]
  },
  {
   "cell_type": "markdown",
   "id": "0f901930",
   "metadata": {},
   "source": [
    "\n",
    "We can always print the Panel contents to check the indexing:\n",
    "\n"
   ]
  },
  {
   "cell_type": "code",
   "execution_count": null,
   "id": "bf22fc48",
   "metadata": {},
   "outputs": [],
   "source": [
    "print(layout)"
   ]
  },
  {
   "cell_type": "markdown",
   "id": "36b853eb",
   "metadata": {},
   "source": [
    "\n",
    "Now, by indexing into this Panel we can lay out the objects precisely how we want:\n",
    "\n"
   ]
  },
  {
   "cell_type": "code",
   "execution_count": null,
   "id": "4579d3a0",
   "metadata": {},
   "outputs": [],
   "source": [
    "pn.Row(pn.Column('First Column', layout[0][0], layout[0][1], width=200),\n",
    "       pn.Column('Second Column', layout[0][2], width=200),\n",
    "       pn.Column('Returns', layout[1]),\n",
    "      )"
   ]
  },
  {
   "cell_type": "markdown",
   "id": "3aa2ff4f",
   "metadata": {},
   "source": [
    "\n",
    "## Related Resources\n"
   ]
  }
 ],
 "metadata": {},
 "nbformat": 4,
 "nbformat_minor": 5
}
