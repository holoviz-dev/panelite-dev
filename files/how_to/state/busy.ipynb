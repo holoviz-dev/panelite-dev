{
 "cells": [
  {
   "cell_type": "markdown",
   "id": "be46f92f",
   "metadata": {},
   "source": [
    "<div class=\"alert alert-block alert-success\">\n",
    "<em>Panelite</em> is powered by young technologies like <a href=\"https://pyodide.org/en/stable/\">Pyodide</a> and <a href=\"https://jupyterlite.readthedocs.io/en/latest/\">Jupyterlite</a>. Panelite <a href=\"https://github.com/holoviz/panel/issues/4416\">does not work well in Edge</a>. If you experience issues, please <a href=\"https://github.com/holoviz/panel/issues\">report them</a>.\n",
    "</div>"
   ]
  },
  {
   "cell_type": "code",
   "execution_count": null,
   "id": "f1c8c505",
   "metadata": {},
   "outputs": [],
   "source": [
    "import piplite\n",
    "await piplite.install(['panel', 'pyodide-http'])"
   ]
  },
  {
   "cell_type": "markdown",
   "id": "dacd27b2",
   "metadata": {},
   "source": [
    "# Access Busyness state\n",
    "\n",
    "This guide addresses how to access the busy state.\n",
    "\n",
    "---\n",
    "\n",
    "Often an application will have longer running callbacks which are being processed on the server, to give users some indication that the server is busy you may therefore have some way of indicating that busy state. The `pn.state.busy` parameter indicates whether a callback is being actively processed and may be linked to some visual indicator.\n",
    "\n",
    "Below we will create a little application to demonstrate this, we will create a button which executes some longer running task on click and then create an indicator function that displays `'I'm busy'` when the `pn.state.busy` parameter is `True` and `'I'm idle'` when it is not:\n",
    "\n"
   ]
  },
  {
   "cell_type": "code",
   "execution_count": null,
   "id": "6d4d1d78",
   "metadata": {},
   "outputs": [],
   "source": [
    "import time\n",
    "import panel as pn\n",
    "pn.extension() # for notebook\n",
    "\n",
    "def processing(event):\n",
    "    # Some longer running task\n",
    "    time.sleep(1)\n",
    "\n",
    "button = pn.widgets.Button(name='Click me!')\n",
    "button.on_click(processing)\n",
    "\n",
    "def indicator(busy):\n",
    "    return \"I'm busy\" if busy else \"I'm idle\"\n",
    "\n",
    "pn.Row(button, pn.bind(indicator, pn.state.param.busy)).servable()"
   ]
  },
  {
   "cell_type": "markdown",
   "id": "0edbe1ac",
   "metadata": {},
   "source": [
    "\n",
    "This way we can create a global indicator for the busy state instead of modifying all our callbacks.\n",
    "\n",
    "## Relate Resources\n"
   ]
  }
 ],
 "metadata": {},
 "nbformat": 4,
 "nbformat_minor": 5
}
