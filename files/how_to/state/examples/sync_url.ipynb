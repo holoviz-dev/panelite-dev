{
 "cells": [
  {
   "cell_type": "markdown",
   "id": "1a9386d4",
   "metadata": {},
   "source": [
    "<div class=\"alert alert-block alert-success\">\n",
    "<em>Panelite</em> is powered by young technologies like <a href=\"https://pyodide.org/en/stable/\">Pyodide</a> and <a href=\"https://jupyterlite.readthedocs.io/en/latest/\">Jupyterlite</a>. Panelite <a href=\"https://github.com/holoviz/panel/issues/4416\">does not work well in Edge</a>. If you experience issues, please <a href=\"https://github.com/holoviz/panel/issues\">report them</a>.\n",
    "</div>"
   ]
  },
  {
   "cell_type": "code",
   "execution_count": null,
   "id": "0c0dca92",
   "metadata": {},
   "outputs": [],
   "source": [
    "import piplite\n",
    "await piplite.install(['panel', 'pyodide-http'])"
   ]
  },
  {
   "cell_type": "markdown",
   "id": "f6eeb336",
   "metadata": {},
   "source": [
    "# Sync Widgets and URL\n",
    "\n"
   ]
  },
  {
   "cell_type": "code",
   "execution_count": null,
   "id": "1ae62aa8",
   "metadata": {},
   "outputs": [],
   "source": [
    "import panel as pn\n",
    "\n",
    "pn.extension(design='material', template='material')\n",
    "\n",
    "pn.state.template.main_max_width = '768px'"
   ]
  },
  {
   "cell_type": "markdown",
   "id": "b8acc238",
   "metadata": {},
   "source": [
    "\n",
    "This example demonstrates how to sync widget state with the URL bar, restoring it from the URL parameters on page load and updating it when the widgets change.\n",
    "\n"
   ]
  },
  {
   "cell_type": "code",
   "execution_count": null,
   "id": "9e044f8f",
   "metadata": {},
   "outputs": [],
   "source": [
    "widget = pn.widgets.FloatSlider(name='Slider', start=0, end=10)\n",
    "widget2 = pn.widgets.TextInput(name='Text')\n",
    "widget3 = pn.widgets.RangeSlider(name='RangeSlider', start=0, end=10)\n",
    "\n",
    "if pn.state.location:\n",
    "    pn.state.location.sync(widget, {'value': 'slider_value'})\n",
    "    pn.state.location.sync(widget2, {'value': 'text_value'})\n",
    "    pn.state.location.sync(widget3, {'value': 'range_value'})\n",
    "\n",
    "pn.Column(widget, widget2, widget3).servable()"
   ]
  }
 ],
 "metadata": {},
 "nbformat": 4,
 "nbformat_minor": 5
}
