{
 "cells": [
  {
   "cell_type": "markdown",
   "id": "ce5e1b94",
   "metadata": {},
   "source": [
    "<div class=\"alert alert-block alert-success\">\n",
    "<em>Panelite</em> is powered by young technologies like <a href=\"https://pyodide.org/en/stable/\">Pyodide</a> and <a href=\"https://jupyterlite.readthedocs.io/en/latest/\">Jupyterlite</a>. Panelite <a href=\"https://github.com/holoviz/panel/issues/4416\">does not work well in Edge</a>. If you experience issues, please <a href=\"https://github.com/holoviz/panel/issues\">report them</a>.\n",
    "</div>"
   ]
  },
  {
   "cell_type": "code",
   "execution_count": null,
   "id": "d20b949a",
   "metadata": {},
   "outputs": [],
   "source": [
    "import piplite\n",
    "await piplite.install(['panel', 'pyodide-http'])"
   ]
  },
  {
   "cell_type": "markdown",
   "id": "bff43e01",
   "metadata": {},
   "source": [
    ".. raw:: html\n",
    "    <head>\n",
    "        <meta http-equiv='refresh' content='0; URL=./index.html#share-your-work'>\n",
    "    </head>\n",
    "\n",
    "# Share your work\n",
    "\n",
    "```{toctree}\n",
    ":titlesonly:\n",
    ":hidden:\n",
    ":maxdepth: 1\n",
    "\n",
    "Configure the server<server/index>\n",
    "Integrate with other servers<integrations/index>\n",
    "Deploy applications<deployment/index>\n",
    "Export apps<export/index>\n",
    "Run panel in WebAssembly<wasm/index>\n",
    "```\n"
   ]
  }
 ],
 "metadata": {},
 "nbformat": 4,
 "nbformat_minor": 5
}
