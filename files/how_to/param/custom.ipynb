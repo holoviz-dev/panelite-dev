{
 "cells": [
  {
   "cell_type": "markdown",
   "id": "c0efd9a6",
   "metadata": {},
   "source": [
    "<div class=\"alert alert-block alert-success\">\n",
    "<em>Panelite</em> is powered by young technologies like <a href=\"https://pyodide.org/en/stable/\">Pyodide</a> and <a href=\"https://jupyterlite.readthedocs.io/en/latest/\">Jupyterlite</a>. Panelite <a href=\"https://github.com/holoviz/panel/issues/4416\">does not work well in Edge</a>. If you experience issues, please <a href=\"https://github.com/holoviz/panel/issues\">report them</a>.\n",
    "</div>"
   ]
  },
  {
   "cell_type": "code",
   "execution_count": null,
   "id": "0ba89f63",
   "metadata": {},
   "outputs": [],
   "source": [
    "import piplite\n",
    "await piplite.install(['panel', 'pyodide-http'])"
   ]
  },
  {
   "cell_type": "markdown",
   "id": "e017e4f1",
   "metadata": {},
   "source": [
    "# Declare Custom Widgets\n",
    "\n",
    "This guide addresses how to extend Param based UIs with custom widgets.\n",
    "\n",
    "```{admonition} Prerequisites\n",
    "1. The [How to > Generate Widgets from Parameters](./uis.md) guide demonstrates the default case of automatically generating widgets.\n",
    "```\n",
    "\n",
    "---\n",
    "\n",
    "## Custom type\n",
    "\n",
    "`Param Parameters` can automatically be turned into widgets because Panel maintains a mapping between `Parameter` types and widget types. However, sometimes the default widget does not provide the most convenient UI and we want to provide an explicit hint to Panel to tell it how to render a `Parameter`. Using the `widgets` keyword we can declare a mapping between the parameter name and the type of widget that is desired (as long as the widget type supports the types of values held by the parameter type).\n",
    "\n",
    "As an example, we can map a string and a number Selector to a `RadioButtonGroup` and `DiscretePlayer` respectively.\n",
    "\n"
   ]
  },
  {
   "cell_type": "code",
   "execution_count": null,
   "id": "0f91d1ae",
   "metadata": {},
   "outputs": [],
   "source": [
    "import panel as pn\n",
    "import param\n",
    "\n",
    "pn.extension()\n",
    "\n",
    "class CustomExample(param.Parameterized):\n",
    "    \"\"\"An example Parameterized class\"\"\"\n",
    "\n",
    "    select_string = param.Selector(objects=[\"red\", \"yellow\", \"green\"])\n",
    "    autocomplete_string = param.Selector(default='', objects=[\"red\", \"yellow\", \"green\"], check_on_set=False)\n",
    "    select_number = param.Selector(objects=[0, 1, 10, 100])\n",
    "\n",
    "\n",
    "pn.Param(CustomExample.param, widgets={\n",
    "    'select_string': pn.widgets.RadioButtonGroup,\n",
    "    'autocomplete_string': pn.widgets.AutocompleteInput,\n",
    "    'select_number': pn.widgets.DiscretePlayer}\n",
    ")"
   ]
  },
  {
   "cell_type": "markdown",
   "id": "780abe9b",
   "metadata": {},
   "source": [
    "\n",
    "Also, it's possible to pass arguments to the widget in order to customize it. Instead of passing the widget, pass a dictionary with the desired options. Use the ``widget_type`` keyword to map the widget.\n",
    "\n",
    "Taking up the previous example.\n",
    "\n"
   ]
  },
  {
   "cell_type": "code",
   "execution_count": null,
   "id": "8e12405c",
   "metadata": {},
   "outputs": [],
   "source": [
    "pn.Param(CustomExample.param, widgets={\n",
    "    'select_string': {'widget_type': pn.widgets.RadioButtonGroup, 'button_type': 'success'},\n",
    "    'autocomplete_string': {'widget_type': pn.widgets.AutocompleteInput, 'placeholder': 'Find a color...'},\n",
    "    'select_number': pn.widgets.DiscretePlayer}\n",
    ")"
   ]
  },
  {
   "cell_type": "markdown",
   "id": "3c4600a0",
   "metadata": {},
   "source": [
    "\n",
    "However it is also possible to explicitly construct a widget from a parameter using the `.from_param` method, which makes it easy to override widget settings using keyword arguments:\n",
    "\n",
    "\n"
   ]
  },
  {
   "cell_type": "code",
   "execution_count": null,
   "id": "4afe17e0",
   "metadata": {},
   "outputs": [],
   "source": [
    "pn.widgets.RadioBoxGroup.from_param(CustomExample.param.select_string, inline=True)"
   ]
  },
  {
   "cell_type": "markdown",
   "id": "0fa44095",
   "metadata": {},
   "source": [
    "\n",
    "## Custom name\n",
    "\n",
    "By default, a param Pane has a title that is derived from the class name of its `Parameterized` object. Using the ``name`` keyword we can set any title to the pane, e.g. to improve the user interface.\n",
    "\n",
    "\n"
   ]
  },
  {
   "cell_type": "code",
   "execution_count": null,
   "id": "b2220a06",
   "metadata": {},
   "outputs": [],
   "source": [
    "pn.Param(CustomExample.param, name=\"Custom Name\")"
   ]
  },
  {
   "cell_type": "markdown",
   "id": "da3d598d",
   "metadata": {},
   "source": [
    "\n",
    "## Custom Sort\n",
    "\n",
    "You can sort the widgets alphabetically by setting `sort=True`\n",
    "\n",
    "\n"
   ]
  },
  {
   "cell_type": "code",
   "execution_count": null,
   "id": "13c99557",
   "metadata": {},
   "outputs": [],
   "source": [
    "pn.Param(CustomExample.param, sort=True, name=\"Sort by Label Example\")"
   ]
  },
  {
   "cell_type": "markdown",
   "id": "06f6c780",
   "metadata": {},
   "source": [
    "\n",
    "You can also specify a custom sort function that takes the (parameter name, Parameter instance) as input.\n",
    "\n",
    "\n"
   ]
  },
  {
   "cell_type": "code",
   "execution_count": null,
   "id": "e4f69114",
   "metadata": {},
   "outputs": [],
   "source": [
    "def sort_func(x):\n",
    "    return len(x[1].label)\n",
    "\n",
    "pn.Param(CustomExample.param, sort=sort_func, name=\"Sort by Label Length Example\")"
   ]
  },
  {
   "cell_type": "markdown",
   "id": "7396bba0",
   "metadata": {},
   "source": [
    "\n",
    "---\n",
    "\n",
    "## Related Resources\n",
    "- See the [Background > APIs](../../background/apis/index.md) for context on this and other Panel APIs\n"
   ]
  }
 ],
 "metadata": {},
 "nbformat": 4,
 "nbformat_minor": 5
}
