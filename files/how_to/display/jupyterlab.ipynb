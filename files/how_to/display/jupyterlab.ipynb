{
 "cells": [
  {
   "cell_type": "markdown",
   "id": "b3c4604d",
   "metadata": {},
   "source": [
    "# Preview Apps in JupyterLab\n",
    "\n",
    "This guide addresses how to use the Preview functionality in JupyterLab to rapidly develop applications.\n",
    "\n",
    "---\n",
    "\n",
    "In the Jupyter environment, first make sure to load the ``pn.extension()``. Panel objects will then render themselves if they are the last item in a notebook cell.\n",
    "\n"
   ]
  },
  {
   "cell_type": "code",
   "execution_count": null,
   "id": "6b2c60d1",
   "metadata": {},
   "outputs": [],
   "source": [
    "import panel as pn\n",
    "pn.extension()"
   ]
  },
  {
   "cell_type": "markdown",
   "id": "de577153",
   "metadata": {},
   "source": [
    "\n"
   ]
  },
  {
   "cell_type": "code",
   "execution_count": null,
   "id": "54bcc09f",
   "metadata": {},
   "outputs": [],
   "source": [
    "button = pn.widgets.Button(name='Click me', button_type='primary')\n",
    "button"
   ]
  },
  {
   "cell_type": "markdown",
   "id": "af769f7a",
   "metadata": {},
   "source": [
    "\n",
    "::::{admonition} Note\n",
    "For versions of ``jupyterlab>=3.0`` the necessary extension is automatically bundled in the ``pyviz_comms`` package, which must be >=2.0.\n",
    "\n",
    ":::{dropdown} Using jupyterlab < 3.0 ?\n",
    "For versions of ``jupyterlab<3.0`` you must also manually install the JupyterLab extension with:\n",
    "\n",
    "```\n",
    "jupyter labextension install @pyviz/jupyterlab_pyviz\n",
    "```\n",
    ":::\n",
    "::::\n",
    "\n",
    "## Related Resources\n"
   ]
  }
 ],
 "metadata": {},
 "nbformat": 4,
 "nbformat_minor": 5
}
