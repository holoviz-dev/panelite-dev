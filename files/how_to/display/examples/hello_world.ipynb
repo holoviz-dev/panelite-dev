{
 "cells": [
  {
   "cell_type": "markdown",
   "id": "b2b95eeb",
   "metadata": {},
   "source": [
    "<div class=\"alert alert-block alert-success\">\n",
    "<em>Panelite</em> is powered by young technologies like <a href=\"https://pyodide.org/en/stable/\">Pyodide</a> and <a href=\"https://jupyterlite.readthedocs.io/en/latest/\">Jupyterlite</a>. Panelite <a href=\"https://github.com/holoviz/panel/issues/4416\">does not work well in Edge</a>. If you experience issues, please <a href=\"https://github.com/holoviz/panel/issues\">report them</a>.\n",
    "</div>"
   ]
  },
  {
   "cell_type": "code",
   "execution_count": null,
   "id": "1cb3e823",
   "metadata": {},
   "outputs": [],
   "source": [
    "import piplite\n",
    "await piplite.install(['panel', 'pyodide-http'])"
   ]
  },
  {
   "cell_type": "markdown",
   "id": "7ecaa393",
   "metadata": {},
   "source": [
    "# My App\n",
    "\n",
    "```python\n",
    "import panel as pn\n",
    "\n",
    "pn.extension(template='fast')\n",
    "```\n",
    "\n",
    "This application provides a minimal example demonstrating how to write an app in a Markdown file.\n",
    "\n",
    "```.py\n",
    "widget = pn.widgets.TextInput(value='world')\n",
    "\n",
    "def hello_world(text):\n",
    "    return f'Hello {text}!'\n",
    "\n",
    "pn.Row(widget, pn.bind(hello_world, widget)).servable()\n",
    "```\n",
    "\n",
    "```python\n",
    "widget = pn.widgets.TextInput(value='world')\n",
    "\n",
    "def hello_world(text):\n",
    "    return f'Hello {text}!'\n",
    "\n",
    "pn.Row(widget, pn.bind(hello_world, widget)).servable()\n",
    "```\n"
   ]
  }
 ],
 "metadata": {},
 "nbformat": 4,
 "nbformat_minor": 5
}
