{
 "cells": [
  {
   "cell_type": "markdown",
   "id": "a6523e2e",
   "metadata": {},
   "source": [
    "<div class=\"alert alert-block alert-success\">\n",
    "<em>Panelite</em> is powered by young technologies like <a href=\"https://pyodide.org/en/stable/\">Pyodide</a> and <a href=\"https://jupyterlite.readthedocs.io/en/latest/\">Jupyterlite</a>. Panelite <a href=\"https://github.com/holoviz/panel/issues/4416\">does not work well in Edge</a>. If you experience issues, please <a href=\"https://github.com/holoviz/panel/issues\">report them</a>.\n",
    "</div>"
   ]
  },
  {
   "cell_type": "code",
   "execution_count": null,
   "id": "70993e18",
   "metadata": {},
   "outputs": [],
   "source": [
    "import piplite\n",
    "await piplite.install(['panel', 'pyodide-http'])"
   ]
  },
  {
   "cell_type": "markdown",
   "id": "98d132f5",
   "metadata": {},
   "source": [
    "# Plotly Link\n",
    "\n"
   ]
  },
  {
   "cell_type": "code",
   "execution_count": null,
   "id": "1c130e5d",
   "metadata": {},
   "outputs": [],
   "source": [
    "import numpy as np\n",
    "import panel as pn\n",
    "\n",
    "pn.extension('plotly', template='bootstrap')"
   ]
  },
  {
   "cell_type": "markdown",
   "id": "f1999cf8",
   "metadata": {},
   "source": [
    "\n",
    "Since Plotly plots are represented as simple JavaScript objects, we can easily define a JS callback to modify the data and trigger an update in a plot:\n",
    "\n"
   ]
  },
  {
   "cell_type": "code",
   "execution_count": null,
   "id": "28684506",
   "metadata": {},
   "outputs": [],
   "source": [
    "xs, ys = np.mgrid[-3:3:0.2, -3:3:0.2]\n",
    "contour = dict(ncontours=4, type='contour', z=np.sin(xs**2*ys**2))\n",
    "layout = {'width': 600, 'height': 500, 'margin': {'l': 8, 'b': 8, 'r': 8, 't': 8}}\n",
    "fig = dict(data=contour, layout=layout)\n",
    "plotly_pane = pn.pane.Plotly(fig, width=600, height=500)\n",
    "\n",
    "buttons = pn.widgets.RadioButtonGroup(value='Medium', options=['Low', 'Medium', 'High'], button_type=\"success\")\n",
    "\n",
    "range_callback = \"\"\"\n",
    "var ncontours = [2, 5, 10]\n",
    "target.data[0].ncontours = ncontours[source.active]\n",
    "target.properties.data.change.emit()\n",
    "\"\"\"\n",
    "\n",
    "buttons.jslink(plotly_pane, code={'active': range_callback})\n",
    "\n",
    "pn.Column(buttons, plotly_pane).servable()"
   ]
  }
 ],
 "metadata": {},
 "nbformat": 4,
 "nbformat_minor": 5
}
