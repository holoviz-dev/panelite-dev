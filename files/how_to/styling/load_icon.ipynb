{
 "cells": [
  {
   "cell_type": "markdown",
   "id": "b1637ff4",
   "metadata": {},
   "source": [
    "<div class=\"alert alert-block alert-success\">\n",
    "<em>Panelite</em> is powered by young technologies like <a href=\"https://pyodide.org/en/stable/\">Pyodide</a> and <a href=\"https://jupyterlite.readthedocs.io/en/latest/\">Jupyterlite</a>. Panelite <a href=\"https://github.com/holoviz/panel/issues/4416\">does not work well in Edge</a>. If you experience issues, please <a href=\"https://github.com/holoviz/panel/issues\">report them</a>.\n",
    "</div>"
   ]
  },
  {
   "cell_type": "code",
   "execution_count": null,
   "id": "f29cc176",
   "metadata": {},
   "outputs": [],
   "source": [
    "import piplite\n",
    "await piplite.install(['panel', 'pyodide-http'])"
   ]
  },
  {
   "cell_type": "markdown",
   "id": "37b9a65e",
   "metadata": {},
   "source": [
    "# Customize Loading Icon\n",
    "\n",
    "This guide addresses how to customize the loading icon.\n",
    "\n",
    "---\n",
    "\n",
    "All components also have a `loading` parameter which indicates that they are currently processing some event. Setting the parameter will display the global `loading_spinner` on top of the component.\n",
    "\n",
    "First, let's configure the style and color of loading spinner:\n",
    "\n",
    "* `pn.config.loading_spinner`: The style of the global loading indicator, e.g. 'arc', 'arcs', 'bar', 'dots', 'petal'.\n",
    "* `pn.config.loading_color`: The color of the global loading indicator as a hex color or color name, e.g. '#6a6a6a', 'black'.\n",
    "\n"
   ]
  },
  {
   "cell_type": "code",
   "execution_count": null,
   "id": "7891d4cb",
   "metadata": {},
   "outputs": [],
   "source": [
    "import panel as pn\n",
    "\n",
    "pn.config.loading_spinner = 'petal'\n",
    "pn.config.loading_color = 'black'"
   ]
  },
  {
   "cell_type": "markdown",
   "id": "00cd1cb1",
   "metadata": {},
   "source": [
    "\n",
    "If we are working in a notebook, we can now activate the panel extension after having set the config parameters. Alternatively, we could have set the config with `pn.extension(loading_spinner='petal', loading_color='black')`\n",
    "\n"
   ]
  },
  {
   "cell_type": "code",
   "execution_count": null,
   "id": "76f99110",
   "metadata": {},
   "outputs": [],
   "source": [
    "pn.extension() # for notebook"
   ]
  },
  {
   "cell_type": "markdown",
   "id": "ec785f93",
   "metadata": {},
   "source": [
    "\n",
    "Next, let's display a simple component and set `loading=True`:\n",
    "\n"
   ]
  },
  {
   "cell_type": "code",
   "execution_count": null,
   "id": "67761105",
   "metadata": {},
   "outputs": [],
   "source": [
    "pn.pane.HTML(styles={'background': '#00aa41'}, width=100, height=100, loading=True)"
   ]
  },
  {
   "cell_type": "markdown",
   "id": "d7261624",
   "metadata": {},
   "source": [
    "\n",
    ":::{admonition} Attention\n",
    ":class: attention\n",
    "\n",
    "Setting the loading icon may not appear to function properly on this page due to incompatibility with the tooling specific to the documentation.\n",
    "\n",
    ":::\n",
    "\n",
    "---\n",
    "\n",
    "## Related Resources\n"
   ]
  }
 ],
 "metadata": {},
 "nbformat": 4,
 "nbformat_minor": 5
}
