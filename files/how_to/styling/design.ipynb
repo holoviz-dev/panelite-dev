{
 "cells": [
  {
   "cell_type": "markdown",
   "id": "2bcd6d03",
   "metadata": {},
   "source": [
    "<div class=\"alert alert-block alert-success\">\n",
    "<em>Panelite</em> is powered by young technologies like <a href=\"https://pyodide.org/en/stable/\">Pyodide</a> and <a href=\"https://jupyterlite.readthedocs.io/en/latest/\">Jupyterlite</a>. Panelite <a href=\"https://github.com/holoviz/panel/issues/4416\">does not work well in Edge</a>. If you experience issues, please <a href=\"https://github.com/holoviz/panel/issues\">report them</a>.\n",
    "</div>"
   ]
  },
  {
   "cell_type": "code",
   "execution_count": null,
   "id": "5a484b91",
   "metadata": {},
   "outputs": [],
   "source": [
    "import piplite\n",
    "await piplite.install(['panel', 'pyodide-http'])"
   ]
  },
  {
   "cell_type": "markdown",
   "id": "837e978d",
   "metadata": {},
   "source": [
    "# Apply a Design\n",
    "\n",
    "This guide addresses how to select a design system to apply to the components to achieve a consistent design language.\n",
    "\n",
    ":::{versionadded} 1.0.0\n",
    "The design feature was added in 1.0.0 and is actively being developed and improved.\n",
    ":::\n",
    "\n",
    "---\n",
    "\n",
    "Applying different design systems in Panel can be achieved globally or per component. To select a `design` globally set it via the extension:\n",
    "\n"
   ]
  },
  {
   "cell_type": "code",
   "execution_count": null,
   "id": "991d2555",
   "metadata": {},
   "outputs": [],
   "source": [
    "import panel as pn\n",
    "\n",
    "pn.extension(design='fast')"
   ]
  },
  {
   "cell_type": "markdown",
   "id": "e839ee44",
   "metadata": {},
   "source": [
    "\n",
    "Alternatively you can also explicitly import and set a `design` on the config:\n",
    "\n",
    "```python\n",
    "from panel.theme.fast import Fast\n",
    "\n",
    "pn.config.design = Fast\n",
    "```\n",
    "\n",
    "Any component that is rendered will now inherit this design. However, alternatively we can also set a `design` explicitly on a particular component, e.g.:\n",
    "\n"
   ]
  },
  {
   "cell_type": "code",
   "execution_count": null,
   "id": "c5e85eea",
   "metadata": {},
   "outputs": [],
   "source": [
    "from panel.theme.bootstrap import Bootstrap\n",
    "from panel.theme.fast import Fast\n",
    "from panel.theme.material import Material\n",
    "from panel.theme.native import Native\n",
    "\n",
    "pn.Tabs(\n",
    "    ('Bootstrap', pn.widgets.FloatSlider(design=Bootstrap)),\n",
    "    ('Fast', pn.widgets.FloatSlider(design=Fast)),\n",
    "    ('Material', pn.widgets.FloatSlider(design=Material)),\n",
    "    ('Native', pn.widgets.FloatSlider(design=Native)),\n",
    ")"
   ]
  },
  {
   "cell_type": "markdown",
   "id": "d632efc5",
   "metadata": {},
   "source": [
    "\n",
    "## Related Resources\n",
    "\n",
    "- Discover [how to toggle between themes](themes.md) next.\n"
   ]
  }
 ],
 "metadata": {},
 "nbformat": 4,
 "nbformat_minor": 5
}
