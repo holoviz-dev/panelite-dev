{
 "cells": [
  {
   "cell_type": "markdown",
   "id": "4d19ee8f",
   "metadata": {},
   "source": [
    "<div class=\"alert alert-block alert-success\">\n",
    "<em>Panelite</em> is powered by young technologies like <a href=\"https://pyodide.org/en/stable/\">Pyodide</a> and <a href=\"https://jupyterlite.readthedocs.io/en/latest/\">Jupyterlite</a>. Panelite <a href=\"https://github.com/holoviz/panel/issues/4416\">does not work well in Edge</a>. If you experience issues, please <a href=\"https://github.com/holoviz/panel/issues\">report them</a>.\n",
    "</div>"
   ]
  },
  {
   "cell_type": "code",
   "execution_count": null,
   "id": "532e39ba",
   "metadata": {},
   "outputs": [],
   "source": [
    "import piplite\n",
    "await piplite.install(['panel', 'pyodide-http'])"
   ]
  },
  {
   "cell_type": "markdown",
   "id": "87979de9",
   "metadata": {},
   "source": [
    "# Control Visibility\n",
    "\n",
    "This guide addresses how to control the visibility of a component.\n",
    "\n",
    "---\n",
    "\n",
    "All components provide a `visible` parameter which toggles a component's visibility.\n",
    "\n",
    "Let's create three simple components with different colors. We'll set the visibility parameter of the blue one to `False`:\n",
    "\n"
   ]
  },
  {
   "cell_type": "code",
   "execution_count": null,
   "id": "d7729333",
   "metadata": {},
   "outputs": [],
   "source": [
    "import panel as pn\n",
    "\n",
    "pn.extension() # for notebook\n",
    "\n",
    "a = pn.pane.HTML(width=60, height=60, styles={'background': 'green'})\n",
    "b = pn.pane.HTML(width=60, height=60, styles={'background': 'blue'}, visible=False)\n",
    "c = pn.pane.HTML(width=60, height=60, styles={'background': 'red'})\n",
    "\n",
    "layout = pn.Row(a, b, c)\n",
    "layout"
   ]
  },
  {
   "cell_type": "markdown",
   "id": "1f2c56f3",
   "metadata": {},
   "source": [
    "\n",
    "In some cases, exposing control of component visibility within the user interface may come in handy. To achieve this, we can use the `controls` method on a component to create a widget that allows for the manipulation of the `visibility` parameter. For instance, after running the code cell, toggling the checkbox below will update the visibility of the blue `b` component above:\n",
    "\n"
   ]
  },
  {
   "cell_type": "code",
   "execution_count": null,
   "id": "fc146e5a",
   "metadata": {},
   "outputs": [],
   "source": [
    "b.controls(['visible'])[1]"
   ]
  },
  {
   "cell_type": "markdown",
   "id": "bc41295d",
   "metadata": {},
   "source": [
    "\n",
    "---\n",
    "\n",
    "## Related Resources\n"
   ]
  }
 ],
 "metadata": {},
 "nbformat": 4,
 "nbformat_minor": 5
}
