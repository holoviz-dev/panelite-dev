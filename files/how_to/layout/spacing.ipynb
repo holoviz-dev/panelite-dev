{
 "cells": [
  {
   "cell_type": "markdown",
   "id": "00d1f977",
   "metadata": {},
   "source": [
    "<div class=\"alert alert-block alert-success\">\n",
    "<em>Panelite</em> is powered by young technologies like <a href=\"https://pyodide.org/en/stable/\">Pyodide</a> and <a href=\"https://jupyterlite.readthedocs.io/en/latest/\">Jupyterlite</a>. Panelite <a href=\"https://github.com/holoviz/panel/issues/4416\">does not work well in Edge</a>. If you experience issues, please <a href=\"https://github.com/holoviz/panel/issues\">report them</a>.\n",
    "</div>"
   ]
  },
  {
   "cell_type": "code",
   "execution_count": null,
   "id": "811c7c56",
   "metadata": {},
   "outputs": [],
   "source": [
    "import piplite\n",
    "await piplite.install(['panel', 'pyodide-http'])"
   ]
  },
  {
   "cell_type": "markdown",
   "id": "8a975bf4",
   "metadata": {},
   "source": [
    "# Customize Spacing\n",
    "\n",
    "This guide addresses how to customize the spacing between elements.\n",
    "\n",
    "---\n",
    "\n",
    "The spacing between components is controlled by setting the margin parameter on individual components and by adding Spacers between components.\n",
    "\n",
    "## Margin Parameter\n",
    "\n",
    "The ``margin`` parameter can be used to create space around an element defined as the number of pixels at the (top, right, bottom, and left). The ``margin`` can be defined in one of three ways:\n",
    "\n",
    "``` python\n",
    "margin=25\n",
    "    # top, bottom, left, and right margins are 25px\n",
    "\n",
    "margin=(25, 50)\n",
    "    # top and bottom margins are 25px\n",
    "    # right and left margins are 50px\n",
    "\n",
    "margin=(25, 50, 75, 100)\n",
    "    # top margin is 25px\n",
    "    # right margin is 50px\n",
    "    # bottom margin is 75px\n",
    "    # left margin is 100px\n",
    "```\n",
    "\n",
    "For example, let's create three buttons and customize their margin. To make it easier to see the margin area, we'll embed each into a `Column` and then shade the `Column` background.\n",
    "\n"
   ]
  },
  {
   "cell_type": "code",
   "execution_count": null,
   "id": "24d14727",
   "metadata": {},
   "outputs": [],
   "source": [
    "import panel as pn\n",
    "\n",
    "pn.extension() # for notebook\n",
    "\n",
    "pn.Row(\n",
    "    pn.Column(pn.widgets.Button(name='B1', width=100, margin=25), styles={'background': '#f0f0f0'}),\n",
    "    pn.Column(pn.widgets.Button(name='B2', width=100, margin=(40, 50)), styles={'background': '#f0f0f0'}),\n",
    "    pn.Column(pn.widgets.Button(name='B3', width=100, margin=(25, 50, 75, 100)), styles={'background': '#f0f0f0'}))\n"
   ]
  },
  {
   "cell_type": "markdown",
   "id": "bb83c200",
   "metadata": {},
   "source": [
    "\n",
    "## Spacer Components\n",
    "\n",
    "Spacer components make it easy to put fixed or responsive spacing between objects.\n",
    "\n",
    "First, let's add fixed-width Spacers in between some numbers:\n",
    "\n"
   ]
  },
  {
   "cell_type": "code",
   "execution_count": null,
   "id": "1f940560",
   "metadata": {},
   "outputs": [],
   "source": [
    "pn.Row(\n",
    "    1,\n",
    "    pn.Spacer(width=200),\n",
    "    2,\n",
    "    pn.Spacer(width=100),\n",
    "    3,\n",
    "    pn.Spacer(width=50),\n",
    "    4,\n",
    "    pn.Spacer(width=25),\n",
    "    5\n",
    ")"
   ]
  },
  {
   "cell_type": "markdown",
   "id": "97bcfa07",
   "metadata": {},
   "source": [
    "\n",
    "Instead of absolute spacing, we could use ``VSpacer`` or ``HSpacer`` components to provide responsive vertical and horizontal spacing, respectively. Using these components we can space objects equidistantly in a layout and allow the empty space to shrink when the browser is resized.\n",
    "\n"
   ]
  },
  {
   "cell_type": "code",
   "execution_count": null,
   "id": "b096cf37",
   "metadata": {},
   "outputs": [],
   "source": [
    "pn.Row(\n",
    "    pn.layout.HSpacer(),\n",
    "    '* Item 1\\n* Item2',\n",
    "    pn.layout.HSpacer(),\n",
    "    '1. First\\n2. Second',\n",
    "    pn.layout.HSpacer()\n",
    ")"
   ]
  },
  {
   "cell_type": "markdown",
   "id": "f28b3df0",
   "metadata": {},
   "source": [
    "\n",
    "---\n",
    "\n",
    "## Related Resources\n"
   ]
  }
 ],
 "metadata": {},
 "nbformat": 4,
 "nbformat_minor": 5
}
