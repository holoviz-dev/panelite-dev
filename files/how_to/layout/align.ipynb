{
 "cells": [
  {
   "cell_type": "markdown",
   "id": "95739baa",
   "metadata": {},
   "source": [
    "<div class=\"alert alert-block alert-success\">\n",
    "<em>Panelite</em> is powered by young technologies like <a href=\"https://pyodide.org/en/stable/\">Pyodide</a> and <a href=\"https://jupyterlite.readthedocs.io/en/latest/\">Jupyterlite</a>. Panelite <a href=\"https://github.com/holoviz/panel/issues/4416\">does not work well in Edge</a>. If you experience issues, please <a href=\"https://github.com/holoviz/panel/issues\">report them</a>.\n",
    "</div>"
   ]
  },
  {
   "cell_type": "code",
   "execution_count": null,
   "id": "f2e83b70",
   "metadata": {},
   "outputs": [],
   "source": [
    "import piplite\n",
    "await piplite.install(['panel', 'pyodide-http'])"
   ]
  },
  {
   "cell_type": "markdown",
   "id": "58a3301f",
   "metadata": {},
   "source": [
    "# Align Components\n",
    "\n",
    "This guide addresses how to customize the alignment between components.\n",
    "\n",
    "---\n",
    "\n",
    "The `align` parameter controls how components align vertically and horizontally. It supports 'start', 'center', and 'end' values and can be set for both horizontal and vertical directions at once or for each separately by passing in a tuple of the form `(horizontal, vertical)`.\n",
    "\n",
    "One common use-case where alignment is important is when placing multiple items with different heights in a `Row`. Let's create a big button and align a slider to the center of the button using `align=center`:\n",
    "\n",
    "\n"
   ]
  },
  {
   "cell_type": "code",
   "execution_count": null,
   "id": "0530f15a",
   "metadata": {},
   "outputs": [],
   "source": [
    "import panel as pn\n",
    "pn.extension() # for notebook\n",
    "\n",
    "button = pn.widgets.Button(name='Test', height=100)\n",
    "slider = pn.widgets.IntSlider(align='center')\n",
    "\n",
    "pn.Row(button, slider, styles={'background': 'lightgrey'})"
   ]
  },
  {
   "cell_type": "markdown",
   "id": "c08a19e1",
   "metadata": {},
   "source": [
    "\n",
    "Now, let's look at aligning components in a grid with an instance of passing in `(horizontal, vertical)`:\n",
    "\n"
   ]
  },
  {
   "cell_type": "code",
   "execution_count": null,
   "id": "6dab172f",
   "metadata": {},
   "outputs": [],
   "source": [
    "pn.GridBox(\n",
    "    pn.widgets.Button(name='Test', height=100),\n",
    "    pn.widgets.IntSlider(align='center'),\n",
    "    pn.widgets.TextInput(name='Test', height=100, width=100, align=('center')),\n",
    "    pn.widgets.TextInput(width=150, align=('start', 'end')),\n",
    "    ncols=2,\n",
    "    styles={'background': 'lightgrey'}\n",
    ")"
   ]
  },
  {
   "cell_type": "markdown",
   "id": "1e9678ae",
   "metadata": {},
   "source": [
    "\n",
    "---\n",
    "\n",
    "## Related Resources\n"
   ]
  }
 ],
 "metadata": {},
 "nbformat": 4,
 "nbformat_minor": 5
}
