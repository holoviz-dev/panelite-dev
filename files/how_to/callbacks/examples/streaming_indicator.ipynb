{
 "cells": [
  {
   "cell_type": "markdown",
   "id": "c85c6eb9",
   "metadata": {},
   "source": [
    "<div class=\"alert alert-block alert-success\">\n",
    "<em>Panelite</em> is powered by young technologies like <a href=\"https://pyodide.org/en/stable/\">Pyodide</a> and <a href=\"https://jupyterlite.readthedocs.io/en/latest/\">Jupyterlite</a>. Panelite <a href=\"https://github.com/holoviz/panel/issues/4416\">does not work well in Edge</a>. If you experience issues, please <a href=\"https://github.com/holoviz/panel/issues\">report them</a>.\n",
    "</div>"
   ]
  },
  {
   "cell_type": "code",
   "execution_count": null,
   "id": "b03dd2b8",
   "metadata": {},
   "outputs": [],
   "source": [
    "import piplite\n",
    "await piplite.install(['panel', 'pyodide-http'])"
   ]
  },
  {
   "cell_type": "markdown",
   "id": "6fcdc032",
   "metadata": {},
   "source": [
    "# Streaming Indicator\n",
    "\n"
   ]
  },
  {
   "cell_type": "code",
   "execution_count": null,
   "id": "3e0f7ef5",
   "metadata": {},
   "outputs": [],
   "source": [
    "import numpy as np\n",
    "import panel as pn\n",
    "\n",
    "pn.extension(template='fast')"
   ]
  },
  {
   "cell_type": "markdown",
   "id": "f08c4f60",
   "metadata": {},
   "source": [
    "\n",
    "This example demonstrates how to use `add_periodic_callback` to stream data to the `Trend` indicator.\n",
    "\n"
   ]
  },
  {
   "cell_type": "code",
   "execution_count": null,
   "id": "728bcccf",
   "metadata": {},
   "outputs": [],
   "source": [
    "layout = pn.layout.FlexBox(*(\n",
    "    pn.indicators.Trend(\n",
    "        data={'x': list(range(10)), 'y': np.random.randn(10).cumsum()},\n",
    "        width=150,\n",
    "        height=100,\n",
    "        plot_type=pn.indicators.Trend.param.plot_type.objects[i%4]\n",
    "    ) for i in range(32)\n",
    "))\n",
    "\n",
    "def stream():\n",
    "    for trend in layout:\n",
    "        trend.stream({'x': [trend.data['x'][-1]+1], 'y': [trend.data['y'][-1]+np.random.randn()]}, rollover=20)\n",
    "\n",
    "cb = pn.state.add_periodic_callback(stream, 500)\n",
    "\n",
    "pn.Column(\n",
    "  pn.Row(\n",
    "      cb.param.period,\n",
    "\t  pn.widgets.Toggle.from_param(cb.param.running, align='end')\n",
    "  ),\n",
    "  layout\n",
    ").servable()"
   ]
  }
 ],
 "metadata": {},
 "nbformat": 4,
 "nbformat_minor": 5
}
