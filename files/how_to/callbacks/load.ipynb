{
 "cells": [
  {
   "cell_type": "markdown",
   "id": "bb4d7b62",
   "metadata": {},
   "source": [
    "<div class=\"alert alert-block alert-success\">\n",
    "<em>Panelite</em> is powered by young technologies like <a href=\"https://pyodide.org/en/stable/\">Pyodide</a> and <a href=\"https://jupyterlite.readthedocs.io/en/latest/\">Jupyterlite</a>. Panelite <a href=\"https://github.com/holoviz/panel/issues/4416\">does not work well in Edge</a>. If you experience issues, please <a href=\"https://github.com/holoviz/panel/issues\">report them</a>.\n",
    "</div>"
   ]
  },
  {
   "cell_type": "code",
   "execution_count": null,
   "id": "65916a79",
   "metadata": {},
   "outputs": [],
   "source": [
    "import piplite\n",
    "await piplite.install(['panel', 'pyodide-http'])"
   ]
  },
  {
   "cell_type": "markdown",
   "id": "df0f5cc6",
   "metadata": {},
   "source": [
    "# Defer Callbacks Until Load\n",
    "\n",
    "This guide addresses how to set up callbacks to defer a task until the application is loaded.\n",
    "\n",
    "---\n",
    "\n",
    "Using the `onload` callback, we can trigger execution when a session is first initialized in a server context. An example of when this could be a helpful strategy is when we have to fetch something from some database, like the options that will go into a selection widget. Since this operation might take some time, we can quickly render something on the screen for the user to look at while the `onload` callback is continuing to fetch the options in the background.\n",
    "\n",
    "Let us for example define a minimal example inside a function which we could pass to `pn.serve` (this emulates what happens when we call `panel serve` on the command line). In this example, we will create a widget without populating its options, then we will add an `onload` callback, which will set the options once the initial page is loaded.\n",
    "\n"
   ]
  },
  {
   "cell_type": "code",
   "execution_count": null,
   "id": "665b8ad3",
   "metadata": {},
   "outputs": [],
   "source": [
    "import time\n",
    "import panel as pn\n",
    "\n",
    "pn.extension()\n",
    "\n",
    "def app():\n",
    "    widget = pn.widgets.Select()\n",
    "\n",
    "    def on_load():\n",
    "        time.sleep(2) # Emulate some long running process\n",
    "        widget.options = ['A', 'B', 'C']\n",
    "\n",
    "    pn.state.onload(on_load)\n",
    "\n",
    "    return widget\n",
    "\n",
    "# pn.serve(app) # launches the app"
   ]
  },
  {
   "cell_type": "markdown",
   "id": "55842026",
   "metadata": {},
   "source": [
    "\n",
    "Alternatively, we may also use the `defer_load` argument to wait to evaluate a function until the page is loaded. In a situation where page loading takes some time, a placeholder and the global `config.loading_spinner` will be displayed.\n",
    "\n"
   ]
  },
  {
   "cell_type": "code",
   "execution_count": null,
   "id": "112f2119",
   "metadata": {},
   "outputs": [],
   "source": [
    "\n",
    "def render_on_load():\n",
    "    return pn.widgets.Select(options=['A', 'B', 'C'])\n",
    "\n",
    "pn.Row(pn.panel(render_on_load, defer_load=True))"
   ]
  },
  {
   "cell_type": "markdown",
   "id": "b60eff0c",
   "metadata": {},
   "source": [
    "\n",
    "## Related Resources\n"
   ]
  }
 ],
 "metadata": {},
 "nbformat": 4,
 "nbformat_minor": 5
}
