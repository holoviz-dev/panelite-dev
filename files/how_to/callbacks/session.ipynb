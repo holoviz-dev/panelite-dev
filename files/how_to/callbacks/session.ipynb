{
 "cells": [
  {
   "cell_type": "markdown",
   "id": "ac1a5bd9",
   "metadata": {},
   "source": [
    "# Run Tasks at Session Start or End\n",
    "\n",
    "This guide addresses how to set up callbacks when a session is created and destroyed.\n",
    "\n",
    "---\n",
    "\n",
    "Whenever a request is made to an endpoint that is serving a Panel application a new session is created. If you have to perform some setup or tear down tasks on session creation (e.g. logging) you can define `on_session_created` and `on_session_destroyed` callbacks.\n",
    "\n",
    "## pn.state.on_session_created\n",
    "\n",
    "WIP\n",
    "\n",
    "## pn.state.on_session_destroyed\n",
    "\n",
    "In many cases it is useful to define `on_session_destroyed` callbacks to perform any custom cleanup that is required, e.g,  dispose  a database engine, log out a user etc.\n",
    "\n",
    "The callbacks must have the signature\n",
    "\n",
    "```python\n",
    "def callback(session_context):\n",
    "    ...\n",
    "```\n",
    "\n",
    "and can be registered with `pn.state.on_session_destroyed(callback)`.\n",
    "\n",
    "## Related Resources\n"
   ]
  }
 ],
 "metadata": {},
 "nbformat": 4,
 "nbformat_minor": 5
}
