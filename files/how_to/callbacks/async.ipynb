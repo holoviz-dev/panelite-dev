{
 "cells": [
  {
   "cell_type": "markdown",
   "id": "9017377a",
   "metadata": {},
   "source": [
    "<div class=\"alert alert-block alert-success\">\n",
    "<em>Panelite</em> is powered by young technologies like <a href=\"https://pyodide.org/en/stable/\">Pyodide</a> and <a href=\"https://jupyterlite.readthedocs.io/en/latest/\">Jupyterlite</a>. Panelite <a href=\"https://github.com/holoviz/panel/issues/4416\">does not work well in Edge</a>. If you experience issues, please <a href=\"https://github.com/holoviz/panel/issues\">report them</a>.\n",
    "</div>"
   ]
  },
  {
   "cell_type": "code",
   "execution_count": null,
   "id": "69ebf19d",
   "metadata": {},
   "outputs": [],
   "source": [
    "import piplite\n",
    "await piplite.install(['panel', 'pyodide-http'])"
   ]
  },
  {
   "cell_type": "markdown",
   "id": "06d8b268",
   "metadata": {},
   "source": [
    "# Use Asynchronous Callbacks\n",
    "\n",
    "This guide addresses how to leverage asynchronous callbacks to run I/O bound tasks in parallel.\n",
    "\n",
    "```{admonition} Prerequisites\n",
    "1. Python has natively supported asynchronous functions since version 3.5, for a quick overview of some of the concepts involved see [the Python documentation](https://docs.python.org/3/library/asyncio-task.html).\n",
    "```\n",
    "```{warning}\n",
    " For full asyncio support in Panel you will have to use `python>=3.8`.\n",
    "```\n",
    "---\n",
    "\n",
    "## `.param.watch`\n",
    "\n",
    "One of the major benefits of leveraging async functions is that it is simple to write callbacks which will perform some longer running IO tasks in the background. Below we simulate this by creating a `Button` which will update some text when it starts and finishes running a long-running background task (here simulated using `asyncio.sleep`. If you are running this in the notebook you will note that you can start multiple tasks and it will update the text immediately but continue in the background:\n",
    "\n"
   ]
  },
  {
   "cell_type": "code",
   "execution_count": null,
   "id": "06026cf3",
   "metadata": {},
   "outputs": [],
   "source": [
    "import panel as pn\n",
    "import asyncio\n",
    "\n",
    "pn.extension()\n",
    "\n",
    "button = pn.widgets.Button(name='Click me!')\n",
    "text = pn.widgets.StaticText()\n",
    "\n",
    "async def run_async(event):\n",
    "    text.value = f'Running {event.new}'\n",
    "    await asyncio.sleep(2)\n",
    "    text.value = f'Finished {event.new}'\n",
    "\n",
    "button.on_click(run_async)\n",
    "\n",
    "pn.Row(button, text)"
   ]
  },
  {
   "cell_type": "markdown",
   "id": "b721432e",
   "metadata": {},
   "source": [
    "\n",
    "Note that `on_click` is simple one way of registering an asynchronous callback, but the more flexible `.param.watch` is also supported. Scheduling asynchronous periodic callbacks can be done with `pn.state.add_periodic_callback`.\n",
    "\n",
    "It is important to note that asynchronous callbacks operate without locking the underlying Bokeh Document, which means Bokeh models cannot be safely modified by default. Usually this is not an issue because modifying Panel components appropriately schedules updates to underlying Bokeh models, however in cases where we want to modify a Bokeh model directly, e.g. when embedding and updating a Bokeh plot in a Panel application we explicitly have to decorate the asynchronous callback with `pn.io.with_lock`.\n",
    "\n"
   ]
  },
  {
   "cell_type": "code",
   "execution_count": null,
   "id": "e5564e54",
   "metadata": {},
   "outputs": [],
   "source": [
    "import numpy as np\n",
    "from bokeh.plotting import figure\n",
    "from bokeh.models import ColumnDataSource\n",
    "\n",
    "button = pn.widgets.Button(name='Click me!')\n",
    "\n",
    "p = figure(width=500, height=300)\n",
    "cds = ColumnDataSource(data={'x': [0], 'y': [0]})\n",
    "p.line(x='x', y='y', source=cds)\n",
    "pane = pn.pane.Bokeh(p)\n",
    "\n",
    "@pn.io.with_lock\n",
    "async def stream(event):\n",
    "    await asyncio.sleep(1)\n",
    "    x, y = cds.data['x'][-1], cds.data['y'][-1]\n",
    "    cds.stream({'x': list(range(x+1, x+6)), 'y': y+np.random.randn(5).cumsum()})\n",
    "    pane.param.trigger('object')\n",
    "\n",
    "# Equivalent to `.on_click` but shown\n",
    "button.param.watch(stream, 'clicks')\n",
    "\n",
    "pn.Row(button, pane)"
   ]
  },
  {
   "cell_type": "markdown",
   "id": "fa1022f0",
   "metadata": {},
   "source": [
    "\n",
    "## `pn.bind`\n",
    "\n"
   ]
  },
  {
   "cell_type": "code",
   "execution_count": null,
   "id": "68739122",
   "metadata": {},
   "outputs": [],
   "source": [
    "import aiohttp\n",
    "\n",
    "widget = pn.widgets.IntSlider(start=0, end=10)\n",
    "\n",
    "async def get_img(index):\n",
    "    async with aiohttp.ClientSession() as session:\n",
    "        async with session.get(f\"https://picsum.photos/800/300?image={index}\") as resp:\n",
    "            return pn.pane.JPG(await resp.read())\n",
    "\n",
    "pn.Column(widget, pn.bind(get_img, widget))"
   ]
  },
  {
   "cell_type": "markdown",
   "id": "1bd67f3a",
   "metadata": {},
   "source": [
    "\n",
    "In this example Panel will invoke the function and update the output when the function returns while leaving the process unblocked for the duration of the `aiohttp` request.\n",
    "\n",
    "The equivalent can be written using `.param.watch` as:\n",
    "\n"
   ]
  },
  {
   "cell_type": "code",
   "execution_count": null,
   "id": "5afc21ea",
   "metadata": {},
   "outputs": [],
   "source": [
    "widget = pn.widgets.IntSlider(start=0, end=10)\n",
    "\n",
    "image = pn.pane.JPG()\n",
    "\n",
    "async def update_img(event):\n",
    "    async with aiohttp.ClientSession() as session:\n",
    "        async with session.get(f\"https://picsum.photos/800/300?image={event.new}\") as resp:\n",
    "            image.object = await resp.read()\n",
    "\n",
    "widget.param.watch(update_img, 'value')\n",
    "widget.param.trigger('value')\n",
    "\n",
    "pn.Column(widget, image)"
   ]
  },
  {
   "cell_type": "markdown",
   "id": "dc4089f1",
   "metadata": {},
   "source": [
    "\n",
    "In this example Param will await the asynchronous function and the image will be updated when the request completes.\n",
    "\n",
    "## Related Resources\n",
    "- See the related [How-to > Link Parameters with Callbacks API](../links/index.md) guides, including [How to > Create Low-Level Python Links Using `.watch`](../links/watchers.md).\n"
   ]
  }
 ],
 "metadata": {},
 "nbformat": 4,
 "nbformat_minor": 5
}
