{
 "cells": [
  {
   "cell_type": "markdown",
   "id": "4b1b7faf",
   "metadata": {},
   "source": [
    "<div class=\"alert alert-block alert-success\">\n",
    "<em>Panelite</em> is powered by young technologies like <a href=\"https://pyodide.org/en/stable/\">Pyodide</a> and <a href=\"https://jupyterlite.readthedocs.io/en/latest/\">Jupyterlite</a>. Panelite <a href=\"https://github.com/holoviz/panel/issues/4416\">does not work well in Edge</a>. If you experience issues, please <a href=\"https://github.com/holoviz/panel/issues\">report them</a>.\n",
    "</div>"
   ]
  },
  {
   "cell_type": "code",
   "execution_count": null,
   "id": "bc9d50e4",
   "metadata": {},
   "outputs": [],
   "source": [
    "import piplite\n",
    "await piplite.install(['panel', 'pyodide-http'])"
   ]
  },
  {
   "cell_type": "markdown",
   "id": "3130a54f",
   "metadata": {},
   "source": [
    "# Construct Panes\n",
    "\n",
    "This guide addresses how to construct Pane objects for displaying visible components.\n",
    "\n",
    "---\n",
    "\n",
    "There are two main ways to construct a pane - explicitly or automatically.\n",
    "\n",
    "To explicitly construct a pane, use one of the pane types listed in the [reference gallery](../../reference/index.html#panes). For example, you can create a Markdown pane as follows:\n",
    "\n"
   ]
  },
  {
   "cell_type": "code",
   "execution_count": null,
   "id": "2cdeadca",
   "metadata": {},
   "outputs": [],
   "source": [
    "import panel as pn\n",
    "pn.extension() # for notebook\n",
    "\n",
    "pn.pane.Markdown('''\n",
    "# H1\n",
    "## H2\n",
    "### H3\n",
    "''')"
   ]
  },
  {
   "cell_type": "markdown",
   "id": "1e91e24d",
   "metadata": {},
   "source": [
    "\n",
    "Alternatively, you can create a pane using the `pn.panel()` utility to automatically infer the pane type from the object being passed as the argument:\n",
    "\n"
   ]
  },
  {
   "cell_type": "code",
   "execution_count": null,
   "id": "f8be48f4",
   "metadata": {},
   "outputs": [],
   "source": [
    "png = pn.panel('https://upload.wikimedia.org/wikipedia/commons/4/47/PNG_transparency_demonstration_1.png', width=500)\n",
    "\n",
    "png"
   ]
  },
  {
   "cell_type": "markdown",
   "id": "71dd71c0",
   "metadata": {},
   "source": [
    "\n",
    "---\n",
    "\n",
    "## Related Resources\n",
    "- Learn more about Panes in [Background > Components](../../background/components/components_overview.html#panes).\n"
   ]
  }
 ],
 "metadata": {},
 "nbformat": 4,
 "nbformat_minor": 5
}
