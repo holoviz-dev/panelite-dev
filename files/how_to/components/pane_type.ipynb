{
 "cells": [
  {
   "cell_type": "markdown",
   "id": "42f40b69",
   "metadata": {},
   "source": [
    "<div class=\"alert alert-block alert-success\">\n",
    "<em>Panelite</em> is powered by young technologies like <a href=\"https://pyodide.org/en/stable/\">Pyodide</a> and <a href=\"https://jupyterlite.readthedocs.io/en/latest/\">Jupyterlite</a>. Panelite <a href=\"https://github.com/holoviz/panel/issues/4416\">does not work well in Edge</a>. If you experience issues, please <a href=\"https://github.com/holoviz/panel/issues\">report them</a>.\n",
    "</div>"
   ]
  },
  {
   "cell_type": "code",
   "execution_count": null,
   "id": "c160cd41",
   "metadata": {},
   "outputs": [],
   "source": [
    "import piplite\n",
    "await piplite.install(['panel', 'pyodide-http'])"
   ]
  },
  {
   "cell_type": "markdown",
   "id": "4da3b888",
   "metadata": {},
   "source": [
    "# Access Pane Type\n",
    "\n",
    "This guide addresses how to access the Pane Type.\n",
    "\n",
    "---\n",
    "\n",
    "To access the type for a given component, use the `print` function. This can come in handy when a component was created in such a way where the type was not explicitly specified, such as with ``pn.panel`` as described on the [How to construct panes page](construct_panes.md).\n",
    "\n"
   ]
  },
  {
   "cell_type": "code",
   "execution_count": null,
   "id": "6f62f177",
   "metadata": {},
   "outputs": [],
   "source": [
    "import panel as pn\n",
    "pn.extension() # for notebook\n",
    "\n",
    "example_pane = pn.panel('https://upload.wikimedia.org/wikipedia/commons/b/b1/Loading_icon.gif', width=500)\n",
    "\n",
    "print(example_pane)"
   ]
  },
  {
   "cell_type": "markdown",
   "id": "8987458f",
   "metadata": {},
   "source": [
    "\n",
    "## Related Resources\n",
    "- Learn more about Panes in [Background > Components](../../background/components/components_overview.html#panes).\n"
   ]
  }
 ],
 "metadata": {},
 "nbformat": 4,
 "nbformat_minor": 5
}
