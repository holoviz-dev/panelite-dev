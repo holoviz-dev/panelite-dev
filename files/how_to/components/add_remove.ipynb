{
 "cells": [
  {
   "cell_type": "markdown",
   "id": "8b1269c1",
   "metadata": {},
   "source": [
    "<div class=\"alert alert-block alert-success\">\n",
    "<em>Panelite</em> is powered by young technologies like <a href=\"https://pyodide.org/en/stable/\">Pyodide</a> and <a href=\"https://jupyterlite.readthedocs.io/en/latest/\">Jupyterlite</a>. Panelite <a href=\"https://github.com/holoviz/panel/issues/4416\">does not work well in Edge</a>. If you experience issues, please <a href=\"https://github.com/holoviz/panel/issues\">report them</a>.\n",
    "</div>"
   ]
  },
  {
   "cell_type": "code",
   "execution_count": null,
   "id": "af53fac2",
   "metadata": {},
   "outputs": [],
   "source": [
    "import piplite\n",
    "await piplite.install(['panel', 'pyodide-http'])"
   ]
  },
  {
   "cell_type": "markdown",
   "id": "8fc66f28",
   "metadata": {},
   "source": [
    "# Add or Remove Components from Panels\n",
    "\n",
    "This guide addresses how to add or remove components from ``Panels``, starting with the most common: ``Row`` and ``Column``.\n",
    "\n",
    "## Row & Column Panels\n",
    "\n",
    "To start, we will declare a ``Column`` and populate it with some text and a widget:\n",
    "\n"
   ]
  },
  {
   "cell_type": "code",
   "execution_count": null,
   "id": "6428893c",
   "metadata": {},
   "outputs": [],
   "source": [
    "import panel as pn\n",
    "pn.extension() # for notebook\n",
    "\n",
    "column = pn.Column('some text', pn.widgets.FloatSlider())\n",
    "\n",
    "column"
   ]
  },
  {
   "cell_type": "markdown",
   "id": "90f6d249",
   "metadata": {},
   "source": [
    "\n",
    "As we can manipulate a ``Row`` or ``Column`` object just like a Python list, we'll use `.append` to add some markdown:\n",
    "\n"
   ]
  },
  {
   "cell_type": "code",
   "execution_count": null,
   "id": "bbabcf9e",
   "metadata": {},
   "outputs": [],
   "source": [
    "column.append('* Item 1\\n* Item 2')\n",
    "\n",
    "column"
   ]
  },
  {
   "cell_type": "markdown",
   "id": "9838c459",
   "metadata": {},
   "source": [
    "\n",
    "Next, we add a few more widgets:\n",
    "\n"
   ]
  },
  {
   "cell_type": "code",
   "execution_count": null,
   "id": "dc430382",
   "metadata": {},
   "outputs": [],
   "source": [
    "column.extend([pn.widgets.TextInput(), pn.widgets.Checkbox(name='Tick this!')])\n",
    "\n",
    "column"
   ]
  },
  {
   "cell_type": "markdown",
   "id": "8f3c0d1f",
   "metadata": {},
   "source": [
    "\n",
    "Now, we change our mind and replace the ``Checkbox`` with a button:\n",
    "\n"
   ]
  },
  {
   "cell_type": "code",
   "execution_count": null,
   "id": "5ffeed9a",
   "metadata": {},
   "outputs": [],
   "source": [
    "column[4] = pn.widgets.Button(name='Click here')\n",
    "\n",
    "column"
   ]
  },
  {
   "cell_type": "markdown",
   "id": "36890d6d",
   "metadata": {},
   "source": [
    "\n",
    "Finally, we decide to remove the FloatSlider widget, but we forget its index. We can use `print` to see the index of the components:\n",
    "\n"
   ]
  },
  {
   "cell_type": "code",
   "execution_count": null,
   "id": "cd19c674",
   "metadata": {},
   "outputs": [],
   "source": [
    "print(column)"
   ]
  },
  {
   "cell_type": "markdown",
   "id": "95a8b605",
   "metadata": {},
   "source": [
    "\n",
    "and then `.pop` to remove the FloatSlider:\n",
    "\n"
   ]
  },
  {
   "cell_type": "code",
   "execution_count": null,
   "id": "749c4061",
   "metadata": {},
   "outputs": [],
   "source": [
    "column.pop(1)\n",
    "\n",
    "column"
   ]
  },
  {
   "cell_type": "markdown",
   "id": "b2fb49c3",
   "metadata": {},
   "source": [
    "\n",
    "Here is the complete code for this subsection in case you want to easily copy it:\n",
    "\n"
   ]
  },
  {
   "cell_type": "code",
   "execution_count": null,
   "id": "a54dba41",
   "metadata": {},
   "outputs": [],
   "source": [
    "import panel as pn\n",
    "pn.extension() # for notebook\n",
    "\n",
    "column = pn.Column('some text', pn.widgets.FloatSlider())\n",
    "column.append('* Item 1\\n* Item 2')\n",
    "column.extend([pn.widgets.TextInput(), pn.widgets.Checkbox(name='Tick this!')])\n",
    "column[4] = pn.widgets.Button(name='Click here')\n",
    "column.pop(1)\n",
    "\n",
    "column"
   ]
  },
  {
   "cell_type": "markdown",
   "id": "e5312aa2",
   "metadata": {},
   "source": [
    "\n",
    "## Tabs Panel\n",
    "\n",
    "``Tabs`` can also be changed like a Python list. However, when adding or replacing tab items, it is also possible to pass a tuple providing a custom title for the tab. First, create a ``Tabs`` panel that contains a plot:\n",
    "\n"
   ]
  },
  {
   "cell_type": "code",
   "execution_count": null,
   "id": "7dc88a85",
   "metadata": {},
   "outputs": [],
   "source": [
    "from bokeh.plotting import figure\n",
    "\n",
    "p1 = figure(width=300, height=300)\n",
    "p1.line([1, 2, 3], [1, 2, 3])\n",
    "\n",
    "tabs = pn.Tabs(p1)\n",
    "\n",
    "tabs"
   ]
  },
  {
   "cell_type": "markdown",
   "id": "35e1f338",
   "metadata": {},
   "source": [
    "\n",
    "Then, add a new tab for a slider widget and include a title for this new tab:\n",
    "\n"
   ]
  },
  {
   "cell_type": "code",
   "execution_count": null,
   "id": "91b8ad24",
   "metadata": {},
   "outputs": [],
   "source": [
    "tabs.append(('Slider', pn.widgets.FloatSlider()))\n",
    "\n",
    "tabs"
   ]
  },
  {
   "cell_type": "markdown",
   "id": "045ab28f",
   "metadata": {},
   "source": [
    "\n",
    "Finally, add multiple additional tabs at once using `.extend`, passing titles for each:\n",
    "\n"
   ]
  },
  {
   "cell_type": "code",
   "execution_count": null,
   "id": "b003e5d4",
   "metadata": {},
   "outputs": [],
   "source": [
    "tabs.extend([\n",
    "    ('Text', pn.widgets.TextInput()),\n",
    "    ('Color', pn.widgets.ColorPicker())\n",
    "])\n",
    "\n",
    "tabs"
   ]
  },
  {
   "cell_type": "markdown",
   "id": "e93cd92d",
   "metadata": {},
   "source": [
    "\n",
    "Here is the complete code for this subsection in case you want to easily copy it:\n"
   ]
  },
  {
   "cell_type": "code",
   "execution_count": null,
   "id": "dad7687f",
   "metadata": {},
   "outputs": [],
   "source": [
    "import panel as pn\n",
    "pn.extension() # for notebook\n",
    "from bokeh.plotting import figure\n",
    "\n",
    "p1 = figure(width=300, height=300)\n",
    "p1.line([1, 2, 3], [1, 2, 3])\n",
    "\n",
    "tabs = pn.Tabs(p1)\n",
    "tabs.append(('Slider', pn.widgets.FloatSlider()))\n",
    "tabs.extend([\n",
    "    ('Text', pn.widgets.TextInput()),\n",
    "    ('Color', pn.widgets.ColorPicker())\n",
    "])\n",
    "\n",
    "tabs"
   ]
  },
  {
   "cell_type": "markdown",
   "id": "54496ec8",
   "metadata": {},
   "source": [
    "\n",
    "## GridSpec Panel\n",
    "\n",
    "A ``GridSpec`` behaves like a 2D array. The indexing is zero-based and specifies the rows first and the columns second.\n",
    "\n",
    "First, declare a ``GridSpec`` and add red and blue blocks. The red block goes in the first row and spans 3 columns. The blue block spans from the second to fourth row, but only occupies the first column:\n",
    "\n"
   ]
  },
  {
   "cell_type": "code",
   "execution_count": null,
   "id": "0d64fc53",
   "metadata": {},
   "outputs": [],
   "source": [
    "gridspec = pn.GridSpec(sizing_mode='stretch_both', min_height=600)\n",
    "\n",
    "gridspec[0, :3] = pn.Spacer(styles={'background': '#FF0000'})\n",
    "gridspec[1:3, 0] = pn.Spacer(styles={'background': '#0000FF'})\n",
    "\n",
    "gridspec"
   ]
  },
  {
   "cell_type": "markdown",
   "id": "b7c26d5f",
   "metadata": {},
   "source": [
    "\n",
    "Next, add our previously created bokeh figure to the remaining slots of the second row:\n",
    "\n"
   ]
  },
  {
   "cell_type": "code",
   "execution_count": null,
   "id": "0b72daf7",
   "metadata": {},
   "outputs": [],
   "source": [
    "gridspec[1:3, 1:3] = p1\n",
    "\n",
    "gridspec"
   ]
  },
  {
   "cell_type": "markdown",
   "id": "cb92924c",
   "metadata": {},
   "source": [
    "\n",
    "Then, place an image and a ``Column`` of widgets under the plot:\n",
    "\n"
   ]
  },
  {
   "cell_type": "code",
   "execution_count": null,
   "id": "a27f5e9e",
   "metadata": {},
   "outputs": [],
   "source": [
    "gridspec[3, 2] = pn.Column(\n",
    "    pn.widgets.FloatSlider(),\n",
    "    pn.widgets.ColorPicker(),\n",
    "    pn.widgets.Toggle(name='Toggle Me!'))\n",
    "gridspec[3, 1] = 'https://upload.wikimedia.org/wikipedia/commons/4/47/PNG_transparency_demonstration_1.png'\n",
    "\n",
    "gridspec"
   ]
  },
  {
   "cell_type": "markdown",
   "id": "3344471f",
   "metadata": {},
   "source": [
    "\n",
    "Finally, remove the Spacers:\n",
    "\n"
   ]
  },
  {
   "cell_type": "code",
   "execution_count": null,
   "id": "abdfb009",
   "metadata": {},
   "outputs": [],
   "source": [
    "del gridspec[0, :3]\n",
    "del gridspec[1:3, 0]\n",
    "\n",
    "gridspec"
   ]
  },
  {
   "cell_type": "markdown",
   "id": "3c617d16",
   "metadata": {},
   "source": [
    "\n",
    "Here is the complete code for this subsection in case you want to easily copy it:\n",
    "\n",
    "``` {pyodide}\n",
    "import panel as pn\n",
    "pn.extension() # for notebook\n",
    "\n",
    "gridspec = pn.GridSpec(sizing_mode='stretch_both', max_height=400)\n",
    "\n",
    "gridspec[0, :3] = pn.Spacer(styles={'background': '#FF0000'})\n",
    "gridspec[1:3, 0] = pn.Spacer(styles={'background': '#0000FF'})\n",
    "\n",
    "gridspec[1:3, 1:3] = p1\n",
    "\n",
    "gridspec[3, 2] = pn.Column(\n",
    "    pn.widgets.FloatSlider(),\n",
    "    pn.widgets.ColorPicker(),\n",
    "    pn.widgets.Toggle(name='Toggle Me!'))\n",
    "gridspec[3, 1] = 'https://upload.wikimedia.org/wikipedia/commons/4/47/PNG_transparency_demonstration_1.png'\n",
    "\n",
    "del gridspec[0, :3]\n",
    "del gridspec[1:3, 0]\n",
    "\n",
    "gridspec\n",
    "```\n",
    "\n",
    "---\n",
    "\n",
    "## Related Resources\n",
    "- Learn more about Panes in [Background > Components](../../background/components/components_overview.html#panes).\n",
    "- For more detail about `GridSpec` Panels, see the [Reference Gallery > GridSpec](../reference/layouts/GridSpec.ipynb).\n"
   ]
  }
 ],
 "metadata": {},
 "nbformat": 4,
 "nbformat_minor": 5
}
