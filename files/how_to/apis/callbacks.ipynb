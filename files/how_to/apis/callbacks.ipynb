{
 "cells": [
  {
   "cell_type": "markdown",
   "id": "ff36a4ae",
   "metadata": {},
   "source": [
    "<div class=\"alert alert-block alert-success\">\n",
    "<em>Panelite</em> is powered by young technologies like <a href=\"https://pyodide.org/en/stable/\">Pyodide</a> and <a href=\"https://jupyterlite.readthedocs.io/en/latest/\">Jupyterlite</a>. Panelite <a href=\"https://github.com/holoviz/panel/issues/4416\">does not work well in Edge</a>. If you experience issues, please <a href=\"https://github.com/holoviz/panel/issues\">report them</a>.\n",
    "</div>"
   ]
  },
  {
   "cell_type": "code",
   "execution_count": null,
   "id": "3adebe90",
   "metadata": {},
   "outputs": [],
   "source": [
    "import piplite\n",
    "await piplite.install(['panel', 'pyodide-http', 'hvplot', 'holoviews==1.16.0a5'])"
   ]
  },
  {
   "cell_type": "markdown",
   "id": "3aeff670",
   "metadata": {},
   "source": [
    "# Callbacks\n",
    "\n",
    "The callback API in Panel is the lowest-level approach, affording the greatest amount of flexibility but also quickly growing in complexity because each new interactive behavior requires additional callbacks that can interact in complex ways. Nonetheless, callbacks are important to know about, and can often be used to complement the other approaches. For instance, one specific callback could be used in addition to the more reactive approaches the other APIs provide.\n",
    "\n",
    "For more details on defining callbacks see the [Links user guide](./Links.md).\n",
    "\n",
    "## Pros:\n",
    "\n",
    "+ Complete and modular control over specific events\n",
    "\n",
    "## Cons:\n",
    "\n",
    "- Complexity grows very quickly with the number of callbacks\n",
    "- Have to handle initializing the plots separately\n",
    "\n",
    "## Example\n",
    "\n",
    "In this approach we once again define the widgets. Unlike in other approaches we then have to define the actual layout, to ensure that the callback we define has something that it can update or replace. In this case we use a single callback to update the plot, but in many cases multiple callbacks might be required.\n",
    "\n"
   ]
  },
  {
   "cell_type": "code",
   "execution_count": null,
   "id": "96a7d56f",
   "metadata": {},
   "outputs": [],
   "source": [
    "import hvplot.pandas\n",
    "import panel as pn\n",
    "\n",
    "from bokeh.sampledata.autompg import autompg\n",
    "\n",
    "columns = list(autompg.columns[:-2])\n",
    "\n",
    "x = pn.widgets.Select(value='mpg', options=columns, name='x')\n",
    "y = pn.widgets.Select(value='hp', options=columns, name='y')\n",
    "color = pn.widgets.ColorPicker(name='Color', value='#880588')\n",
    "\n",
    "layout = pn.Row(\n",
    "    pn.Column('## MPG Explorer', x, y, color),\n",
    "    autompg.hvplot.scatter(x.value, y.value, c=color.value, padding=0.1)\n",
    ")\n",
    "\n",
    "def update(event):\n",
    "    layout[1].object = autompg.hvplot.scatter(x.value, y.value, c=color.value, padding=0.1)\n",
    "\n",
    "x.param.watch(update, 'value')\n",
    "y.param.watch(update, 'value')\n",
    "color.param.watch(update, 'value')\n",
    "\n",
    "layout"
   ]
  }
 ],
 "metadata": {},
 "nbformat": 4,
 "nbformat_minor": 5
}
