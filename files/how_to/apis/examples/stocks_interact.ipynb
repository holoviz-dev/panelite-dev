{
 "cells": [
  {
   "cell_type": "markdown",
   "id": "be6a2ee4",
   "metadata": {},
   "source": [
    "<div class=\"alert alert-block alert-success\">\n",
    "<em>Panelite</em> is powered by young technologies like <a href=\"https://pyodide.org/en/stable/\">Pyodide</a> and <a href=\"https://jupyterlite.readthedocs.io/en/latest/\">Jupyterlite</a>. Panelite <a href=\"https://github.com/holoviz/panel/issues/4416\">does not work well in Edge</a>. If you experience issues, please <a href=\"https://github.com/holoviz/panel/issues\">report them</a>.\n",
    "</div>"
   ]
  },
  {
   "cell_type": "code",
   "execution_count": null,
   "id": "53e85ab9",
   "metadata": {},
   "outputs": [],
   "source": [
    "import piplite\n",
    "await piplite.install(['panel', 'pyodide-http'])"
   ]
  },
  {
   "cell_type": "markdown",
   "id": "a385c118",
   "metadata": {},
   "source": [
    "# Stock Explorer - Interact API\n",
    "\n",
    "Before launching into the application code we will first declare some components of the app that will be shared, including the title of the app, a set of stock tickers, a function to return a dataframe given the stock ``ticker`` and the rolling mean ``window_size``, and another function to return a plot given those same inputs:\n",
    "\n"
   ]
  },
  {
   "cell_type": "code",
   "execution_count": null,
   "id": "feeb1f7b",
   "metadata": {},
   "outputs": [],
   "source": [
    "import panel as pn\n",
    "import pandas as pd\n",
    "import altair as alt\n",
    "import plotly.graph_objects as go\n",
    "\n",
    "from bokeh.sampledata import stocks\n",
    "from matplotlib.figure import Figure\n",
    "\n",
    "pn.extension('plotly', 'vega', template='bootstrap')\n",
    "import hvplot.pandas\n",
    "\n",
    "tickers = ['AAPL', 'FB', 'GOOG', 'IBM', 'MSFT']\n",
    "\n",
    "def get_df(ticker, window_size):\n",
    "    df = pd.DataFrame(getattr(stocks, ticker))\n",
    "    df['date'] = pd.to_datetime(df.date)\n",
    "    return df.set_index('date').rolling(window=window_size).mean().reset_index()\n",
    "\n",
    "def get_altair(ticker, window_size):\n",
    "    df = get_df(ticker, window_size)\n",
    "    return alt.Chart(df).mark_line().encode(x='date', y='close').properties(\n",
    "        width=\"container\", height=400\n",
    "    )\n",
    "\n",
    "def get_hvplot(ticker, window_size):\n",
    "    df = get_df(ticker, window_size)\n",
    "    return df.hvplot.line('date', 'close', grid=True, responsive=True, height=400)\n",
    "\n",
    "def get_mpl(ticker, window_size):\n",
    "    fig = Figure(figsize=(10, 6))\n",
    "    ax = fig.subplots()\n",
    "    df = get_df(ticker, window_size)\n",
    "    df.plot.line('date', 'close', ax=ax)\n",
    "    return fig\n",
    "\n",
    "def get_plotly(ticker, window_size):\n",
    "    df = get_df(ticker, window_size)\n",
    "    return go.Scatter(x=df.date, y=df.close)\n",
    "\n",
    "plot_fns = {\n",
    "    'altair': get_altair,\n",
    "\t'hvplot': get_hvplot,\n",
    "\t'matplotlib': get_mpl,\n",
    "\t'plotly': get_plotly\n",
    "}"
   ]
  },
  {
   "cell_type": "markdown",
   "id": "487dd1b6",
   "metadata": {},
   "source": [
    "\n",
    "This example demonstrates how APIs in Panel differ, to see the same app implemented using a different API visit:\n",
    "\n",
    "- [Callback API](stocks_callbacks)\n",
    "- [Declarative API](stocks_declarative)\n",
    "- [Reactive API](stocks_reactive)\n",
    "\n",
    "In the ``interact`` model the widgets are automatically generated from the arguments to the function or by providing additional hints to the ``interact`` call. This is a very convenient way to generate a simple app, particularly when first exploring some data.  However, because widgets are created implicitly based on introspecting the code, it is difficult to see how to modify the behavior.  Also, to compose the different components in a custom way it is necessary to unpack the layout returned by the ``interact`` call, as we do here:\n",
    "\n"
   ]
  },
  {
   "cell_type": "code",
   "execution_count": null,
   "id": "aca626b7",
   "metadata": {},
   "outputs": [],
   "source": [
    "def plot(backend, ticker, window_size):\n",
    "    return backend(ticker, window_size)\n",
    "\n",
    "interact = pn.interact(plot, ticker=tickers, window_size=(1, 51, 5), backend=plot_fns)\n",
    "\n",
    "pn.Row(interact[0], interact[1]).servable()"
   ]
  }
 ],
 "metadata": {},
 "nbformat": 4,
 "nbformat_minor": 5
}
