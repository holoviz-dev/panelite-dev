{
 "cells": [
  {
   "cell_type": "markdown",
   "id": "5e1e8b7f",
   "metadata": {},
   "source": [
    "<div class=\"alert alert-block alert-success\">\n",
    "<em>Panelite</em> is powered by young technologies like <a href=\"https://pyodide.org/en/stable/\">Pyodide</a> and <a href=\"https://jupyterlite.readthedocs.io/en/latest/\">Jupyterlite</a>. Panelite <a href=\"https://github.com/holoviz/panel/issues/4416\">does not work well in Edge</a>. If you experience issues, please <a href=\"https://github.com/holoviz/panel/issues\">report them</a>.\n",
    "</div>"
   ]
  },
  {
   "cell_type": "code",
   "execution_count": null,
   "id": "359e5673",
   "metadata": {},
   "outputs": [],
   "source": [
    "import piplite\n",
    "await piplite.install(['panel', 'pyodide-http', 'plotly'])"
   ]
  },
  {
   "cell_type": "markdown",
   "id": "9dfef2b1",
   "metadata": {},
   "source": [
    "#\n",
    "\n",
    "import panel as pn\n",
    "import pandas as pd\n",
    "import altair as alt\n",
    "\n",
    "from bokeh.sampledata import stocks\n",
    "\n",
    "pn.extension('vega', template='fast')\n"
   ]
  }
 ],
 "metadata": {},
 "nbformat": 4,
 "nbformat_minor": 5
}
