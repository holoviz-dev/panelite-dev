{
 "cells": [
  {
   "cell_type": "markdown",
   "id": "14586075",
   "metadata": {},
   "source": [
    "<div class=\"alert alert-block alert-success\">\n",
    "<em>Panelite</em> is powered by young technologies like <a href=\"https://pyodide.org/en/stable/\">Pyodide</a> and <a href=\"https://jupyterlite.readthedocs.io/en/latest/\">Jupyterlite</a>. Panelite <a href=\"https://github.com/holoviz/panel/issues/4416\">does not work well in Edge</a>. If you experience issues, please <a href=\"https://github.com/holoviz/panel/issues\">report them</a>.\n",
    "</div>"
   ]
  },
  {
   "cell_type": "code",
   "execution_count": null,
   "id": "c11bca0e",
   "metadata": {},
   "outputs": [],
   "source": [
    "import piplite\n",
    "await piplite.install(['panel', 'pyodide-http', 'hvplot', 'holoviews==1.16.0a5'])"
   ]
  },
  {
   "cell_type": "markdown",
   "id": "0aef5dac",
   "metadata": {},
   "source": [
    "# Reactive functions\n",
    "\n",
    "The `pn.bind` reactive programming API is very similar to the [`interact` function](interact) but is more explicit about widget selection and layout. `pn.bind` requires the programmer to select and configure widgets explicity and to lay out components explicitly, without relying on inference of widget types and ranges and without any default layouts. Specifying those aspects explicitly provides more power and control, but does typically take a bit more code and more knowledge of widget and layout components than using `interact` does. Once widgets have been bound to a reactive function, you can lay out the bound function and the widgets in any order or combination you like, including across Jupyter notebook cells if desired.\n",
    "\n",
    "## Pros:\n",
    "\n",
    "+ Very clear mapping from widgets to the arguments of the function.\n",
    "+ Very explicit layout of each of the different components.\n",
    "+ Like `interact`, doesn't typically require modifying existing visualization code.\n",
    "\n",
    "## Cons:\n",
    "\n",
    "- Typically requires a bit more code than `interact`\n",
    "\n",
    "## Explanation\n",
    "\n",
    "In this model, we can use an existing plotting function just as for `interact`, but then need to declare each widget explicitly and then bind a widget to each of the arguments that we want to be interactive. The `pn.bind` function works much like [`functools.partial`](https://docs.python.org/3/library/functools.html#functools.partial) in that it binds regular arguments and keyword arguments to a function. `partial` can only bind specific, static arguments like `5`, but `pn.bind` can also bind parameters, widgets, and other dynamic functions with dependencies to the arguments, ensuring when the function is called the current values of the parameters are passed to the function. A bound function is then reactive, updating whenever the widget values change.\n",
    "\n",
    "To make the concept of binding clear, let's look at a trivial example first:\n",
    "\n"
   ]
  },
  {
   "cell_type": "code",
   "execution_count": null,
   "id": "0ef3d56b",
   "metadata": {},
   "outputs": [],
   "source": [
    "import panel as pn\n",
    "pn.extension()\n",
    "\n",
    "def fn(a,b): return f'Arguments: {a,b}'\n",
    "slider = pn.widgets.FloatSlider(value=0.5)\n",
    "\n",
    "bound_fn = pn.bind(fn, a=slider, b=2)\n",
    "bound_fn()"
   ]
  },
  {
   "cell_type": "markdown",
   "id": "4f1da9ef",
   "metadata": {},
   "source": [
    "\n",
    "Here we can see that although `fn` required two arguments, `bound_fn` takes no arguments because `a` has been bound to the slider value and `b` to a static value.\n",
    "\n",
    "If we display the slider and bound function in Panel, we can see that everything will update reactively as you use the widget, reevaluating the function whenever the bound argument changes:\n",
    "\n"
   ]
  },
  {
   "cell_type": "code",
   "execution_count": null,
   "id": "8c26c24e",
   "metadata": {},
   "outputs": [],
   "source": [
    "pn.Row(slider, bound_fn)"
   ]
  },
  {
   "cell_type": "markdown",
   "id": "9327b444",
   "metadata": {},
   "source": [
    "\n",
    "## Example\n",
    "\n",
    "Now let us create a simple application with some more interesting output. Just like in the [other API examples](index) we will load the AutoMPG dataset and let you pick the axes to plot and how to color the scatter plot. Using the `pn.bind` function, we can easily add the interactivity by binding widgets to each argument and lay out the result with the widgets:\n",
    "\n"
   ]
  },
  {
   "cell_type": "code",
   "execution_count": null,
   "id": "9638017a",
   "metadata": {},
   "outputs": [],
   "source": [
    "import hvplot.pandas\n",
    "\n",
    "from bokeh.sampledata.autompg import autompg\n",
    "\n",
    "columns = list(autompg.columns[:-2])\n",
    "\n",
    "x = pn.widgets.Select(value='mpg', options=columns, name='x')\n",
    "y = pn.widgets.Select(value='hp', options=columns, name='y')\n",
    "color = pn.widgets.ColorPicker(name='Color', value='#AA0505')\n",
    "\n",
    "pn.Row(\n",
    "    pn.Column('## MPG Explorer', x, y, color),\n",
    "    pn.bind(autompg.hvplot.scatter, x, y, c=color)\n",
    ")"
   ]
  },
  {
   "cell_type": "markdown",
   "id": "4ea7930e",
   "metadata": {},
   "source": [
    "\n",
    "Notice how here we didn't even need the `autompg_plot` function here, because `bind` works with both methods and functions, so for this particular case the reactive API works out to the same amount of code as the [`interact`](interact) API.\n",
    "\n",
    "If you are writing code specifically for building an app, and do not wish to keep domain and GUI code separate, the functionality of `pn.bind` is also available as a decorator `@pn.depends`:\n",
    "\n"
   ]
  },
  {
   "cell_type": "code",
   "execution_count": null,
   "id": "7f2e0f9a",
   "metadata": {},
   "outputs": [],
   "source": [
    "x = pn.widgets.Select(value='mpg', options=columns, name='x')\n",
    "y = pn.widgets.Select(value='hp', options=columns, name='y')\n",
    "color = pn.widgets.ColorPicker(name='Color', value='#AA0505')\n",
    "\n",
    "@pn.depends(x, y, color)\n",
    "def plot(xval, yval, colorval):\n",
    "    return autompg.hvplot.scatter(xval, yval, c=colorval)\n",
    "\n",
    "pn.Row(\n",
    "    pn.Column('## MPG Explorer', x, y, color),\n",
    "    plot\n",
    ")"
   ]
  },
  {
   "cell_type": "markdown",
   "id": "6f7a6b16",
   "metadata": {},
   "source": [
    "\n",
    "This alternative way of specifying the same app lets you declare the dependency between a function argument and a widget (or parameter) from the start, which can be clearer if you know the function will always and only be used in a GUI. Otherwise, the `pn.bind` version is preferred, because it allows you to keep the Panel-specific code separate (even in a different Python module or file) from the underlying analysis and plotting code.\n"
   ]
  }
 ],
 "metadata": {},
 "nbformat": 4,
 "nbformat_minor": 5
}
