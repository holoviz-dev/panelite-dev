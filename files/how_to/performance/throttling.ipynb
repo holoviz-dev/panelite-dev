{
 "cells": [
  {
   "cell_type": "markdown",
   "id": "05896a9d",
   "metadata": {},
   "source": [
    "# Enable Throttling\n",
    "\n",
    "One of the simplest ways to avoid slowing down your application is simply to control how often events from the frontend trigger code execution in Python. Particularly when using sliders this can be a problem. To solve this issue sliders offer `value_throttled` parameters which are updated only when the user releases the slider unlike the `value` parameter which is updated continuously as the slider is dragged. If you are building apps using the reactive `pn.bind` or `pn.depends` functions you can depend on the `value_throttled` parameter directly:\n",
    "\n",
    "```python\n",
    "slider = pn.widgets.IntSlider()\n",
    "\n",
    "def output(value):\n",
    "    return ...\n",
    "\n",
    "pn.bind(output, slider.param.value_throttled)\n",
    "```\n",
    "\n",
    "Alternatively you can also ensure that all sliders only update on mouse release if you set `pn.config.throttled = True`.\n"
   ]
  }
 ],
 "metadata": {},
 "nbformat": 4,
 "nbformat_minor": 5
}
