{
 "cells": [
  {
   "cell_type": "markdown",
   "id": "ad562e44",
   "metadata": {},
   "source": [
    "# Integrating Panel with Flask\n",
    "\n",
    "WIP\n"
   ]
  }
 ],
 "metadata": {},
 "nbformat": 4,
 "nbformat_minor": 5
}
