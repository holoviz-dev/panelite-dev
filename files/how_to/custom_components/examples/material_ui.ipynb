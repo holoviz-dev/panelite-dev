{
 "cells": [
  {
   "cell_type": "markdown",
   "id": "2243620e",
   "metadata": {},
   "source": [
    "<div class=\"alert alert-block alert-success\">\n",
    "<em>Panelite</em> is powered by young technologies like <a href=\"https://pyodide.org/en/stable/\">Pyodide</a> and <a href=\"https://jupyterlite.readthedocs.io/en/latest/\">Jupyterlite</a>. Panelite <a href=\"https://github.com/holoviz/panel/issues/4416\">does not work well in Edge</a>. If you experience issues, please <a href=\"https://github.com/holoviz/panel/issues\">report them</a>.\n",
    "</div>"
   ]
  },
  {
   "cell_type": "code",
   "execution_count": null,
   "id": "06b87023",
   "metadata": {},
   "outputs": [],
   "source": [
    "import piplite\n",
    "await piplite.install(['panel', 'pyodide-http'])"
   ]
  },
  {
   "cell_type": "markdown",
   "id": "b2e66b75",
   "metadata": {},
   "source": [
    "# Wrapping Material UI components\n",
    "\n",
    ":::{note}\n",
    "The `MaterialBase` component is defined before the call to `pn.extension` to allow us to load the `_extension_name` and thereby initialize the required JS and CSS resources. Ordinarily the component would be defined in an external module.\n",
    ":::\n",
    "\n"
   ]
  },
  {
   "cell_type": "code",
   "execution_count": null,
   "id": "46385a8b",
   "metadata": {},
   "outputs": [],
   "source": [
    "import param\n",
    "import panel as pn\n",
    "\n",
    "from panel.reactive import ReactiveHTML\n",
    "\n",
    "class MaterialBase(ReactiveHTML):\n",
    "\n",
    "    __javascript__ = ['https://unpkg.com/material-components-web@latest/dist/material-components-web.min.js']\n",
    "\n",
    "    __css__ = ['https://unpkg.com/material-components-web@latest/dist/material-components-web.min.css']\n",
    "\n",
    "    _extension_name = 'material_ui'\n",
    "\n",
    "pn.extension('material_ui', template='material')"
   ]
  },
  {
   "cell_type": "markdown",
   "id": "582cf0e7",
   "metadata": {},
   "source": [
    "\n",
    "This example demonstrates how to wrap Material UI components using `ReactiveHTML`.\n",
    "\n"
   ]
  },
  {
   "cell_type": "code",
   "execution_count": null,
   "id": "83afe6e8",
   "metadata": {},
   "outputs": [],
   "source": [
    "class MaterialTextField(MaterialBase):\n",
    "\n",
    "    value = param.String(default='')\n",
    "\n",
    "    _template = \"\"\"\n",
    "    <label id=\"text-field\" class=\"mdc-text-field mdc-text-field--filled\">\n",
    "      <span class=\"mdc-text-field__ripple\"></span>\n",
    "      <span class=\"mdc-floating-label\">Label</span>\n",
    "      <input id=\"text-input\" type=\"text\" class=\"mdc-text-field__input\" aria-labelledby=\"my-label\" value=\"${value}\"></input>\n",
    "      <span class=\"mdc-line-ripple\"></span>\n",
    "    </label>\n",
    "    \"\"\"\n",
    "\n",
    "    _dom_events = {'text-input': ['change']}\n",
    "\n",
    "    _scripts = {\n",
    "        'render': \"mdc.textField.MDCTextField.attachTo(text_field);\"\n",
    "    }\n",
    "\n",
    "class MaterialSlider(MaterialBase):\n",
    "\n",
    "    end = param.Number(default=100)\n",
    "\n",
    "    start = param.Number(default=0)\n",
    "\n",
    "    value = param.Number(default=50)\n",
    "\n",
    "    _template = \"\"\"\n",
    "    <div id=\"mdc-slider\" class=\"mdc-slider\" style=\"width: ${model.width}px\">\n",
    "      <input id=\"slider-input\" class=\"mdc-slider__input\" min=\"${start}\" max=\"${end}\" value=\"${value}\">\n",
    "      </input>\n",
    "      <div class=\"mdc-slider__track\">\n",
    "        <div class=\"mdc-slider__track--inactive\"></div>\n",
    "        <div class=\"mdc-slider__track--active\">\n",
    "          <div class=\"mdc-slider__track--active_fill\"></div>\n",
    "        </div>\n",
    "      </div>\n",
    "      <div class=\"mdc-slider__thumb\">\n",
    "        <div class=\"mdc-slider__thumb-knob\"></div>\n",
    "      </div>\n",
    "    </div>\n",
    "    \"\"\"\n",
    "\n",
    "    _scripts = {\n",
    "        'render': \"\"\"\n",
    "            slider_input.setAttribute('value', data.value)\n",
    "            state.slider = mdc.slider.MDCSlider.attachTo(mdc_slider)\n",
    "        \"\"\",\n",
    "        'value': \"\"\"\n",
    "            state.slider.setValue(data.value)\n",
    "        \"\"\"\n",
    "    }\n",
    "\n",
    "slider     = MaterialSlider(value=5, start=0, end=100, width=200)\n",
    "text_field = MaterialTextField()\n",
    "\n",
    "pn.Row(\n",
    "    pn.Column(\n",
    "        slider.controls(['value']),\n",
    "        slider\n",
    "    ),\n",
    "    pn.Column(\n",
    "        text_field.controls(['value']),\n",
    "        text_field\n",
    "    ),\n",
    ").servable()"
   ]
  }
 ],
 "metadata": {},
 "nbformat": 4,
 "nbformat_minor": 5
}
