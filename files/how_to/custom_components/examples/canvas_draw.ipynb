{
 "cells": [
  {
   "cell_type": "markdown",
   "id": "68588a37",
   "metadata": {},
   "source": [
    "<div class=\"alert alert-block alert-success\">\n",
    "<em>Panelite</em> is powered by young technologies like <a href=\"https://pyodide.org/en/stable/\">Pyodide</a> and <a href=\"https://jupyterlite.readthedocs.io/en/latest/\">Jupyterlite</a>. Panelite <a href=\"https://github.com/holoviz/panel/issues/4416\">does not work well in Edge</a>. If you experience issues, please <a href=\"https://github.com/holoviz/panel/issues\">report them</a>.\n",
    "</div>"
   ]
  },
  {
   "cell_type": "code",
   "execution_count": null,
   "id": "7ae1d5ea",
   "metadata": {},
   "outputs": [],
   "source": [
    "import piplite\n",
    "await piplite.install(['panel', 'pyodide-http'])"
   ]
  },
  {
   "cell_type": "markdown",
   "id": "aa264407",
   "metadata": {},
   "source": [
    "# Build a Custom Canvas Component\n",
    "\n"
   ]
  },
  {
   "cell_type": "code",
   "execution_count": null,
   "id": "0015e674",
   "metadata": {},
   "outputs": [],
   "source": [
    "import param\n",
    "import panel as pn\n",
    "\n",
    "from panel.reactive import ReactiveHTML\n",
    "\n",
    "pn.extension(template='bootstrap')"
   ]
  },
  {
   "cell_type": "markdown",
   "id": "76335ecb",
   "metadata": {},
   "source": [
    "\n",
    "This example shows how to use the `ReactiveHTML` component to develop a **Drawable Canvas**.\n",
    "\n"
   ]
  },
  {
   "cell_type": "code",
   "execution_count": null,
   "id": "f0c0ec7a",
   "metadata": {},
   "outputs": [],
   "source": [
    "class Canvas(ReactiveHTML):\n",
    "\n",
    "    color = param.Color(default='#000000')\n",
    "\n",
    "    line_width = param.Number(default=1, bounds=(0.1, 10))\n",
    "\n",
    "    uri = param.String()\n",
    "\n",
    "    _template = \"\"\"\n",
    "    <canvas\n",
    "      id=\"canvas\"\n",
    "      style=\"border: 1px solid\"\n",
    "      width=\"${model.width}\"\n",
    "      height=\"${model.height}\"\n",
    "      onmousedown=\"${script('start')}\"\n",
    "      onmousemove=\"${script('draw')}\"\n",
    "      onmouseup=\"${script('end')}\"\n",
    "    >\n",
    "    </canvas>\n",
    "    <button id=\"clear\" onclick='${script(\"clear\")}'>Clear</button>\n",
    "    <button id=\"save\" onclick='${script(\"save\")}'>Save</button>\n",
    "    \"\"\"\n",
    "\n",
    "    _scripts = {\n",
    "        'render': \"\"\"\n",
    "          state.ctx = canvas.getContext(\"2d\")\n",
    "        \"\"\",\n",
    "        'start': \"\"\"\n",
    "          state.start = event\n",
    "          state.ctx.beginPath()\n",
    "          state.ctx.moveTo(state.start.offsetX, state.start.offsetY)\n",
    "        \"\"\",\n",
    "        'draw': \"\"\"\n",
    "          if (state.start == null)\n",
    "            return\n",
    "          state.ctx.lineTo(event.offsetX, event.offsetY)\n",
    "          state.ctx.stroke()\n",
    "        \"\"\",\n",
    "        'end': \"\"\"\n",
    "          delete state.start\n",
    "        \"\"\",\n",
    "        'clear': \"\"\"\n",
    "          state.ctx.clearRect(0, 0, canvas.width, canvas.height);\n",
    "        \"\"\",\n",
    "        'save': \"\"\"\n",
    "          data.uri = canvas.toDataURL();\n",
    "        \"\"\",\n",
    "        'line_width': \"\"\"\n",
    "          state.ctx.lineWidth = data.line_width;\n",
    "        \"\"\",\n",
    "        'color': \"\"\"\n",
    "          state.ctx.strokeStyle = data.color;\n",
    "        \"\"\"\n",
    "    }\n",
    "\n",
    "canvas = Canvas(width=400, height=400)\n",
    "\n",
    "# We create a separate HTML element which syncs with the uri parameter of the Canvas\n",
    "\n",
    "png_view = pn.pane.HTML(height=400)\n",
    "\n",
    "canvas.jslink(png_view, code={'uri': \"target.text = `<img src='${source.uri}'></img>`\"})\n",
    "\n",
    "pn.Row(\n",
    "    canvas.controls(['color', 'line_width']).servable(target='sidebar'),\n",
    "    pn.Column(\n",
    "        '# Drag on canvas to draw\\n To export the drawing to a png click save.',\n",
    "        pn.Row(\n",
    "            canvas,\n",
    "            png_view\n",
    "        ),\n",
    "    ).servable()\n",
    ")"
   ]
  }
 ],
 "metadata": {},
 "nbformat": 4,
 "nbformat_minor": 5
}
